{
 "cells": [
  {
   "cell_type": "code",
   "execution_count": 1,
   "metadata": {},
   "outputs": [],
   "source": [
    "from selenium import webdriver\n",
    "import requests\n",
    "from bs4 import BeautifulSoup as BS\n",
    "import pandas as pd\n",
    "import time\n",
    "import re\n",
    "import pickle\n",
    "from selenium.webdriver.common.keys import Keys\n",
    "from tqdm import tqdm"
   ]
  },
  {
   "cell_type": "code",
   "execution_count": 2,
   "metadata": {
    "scrolled": false
   },
   "outputs": [],
   "source": [
    "file_path = 'C:\\\\Users\\\\Han\\\\Desktop\\\\Semina\\\\blog\\\\' # 파일 경로 바꿀것\n",
    "path = file_path + 'chromedriver.exe' #크롬드라이버\n",
    "driver = webdriver.Chrome(path)"
   ]
  },
  {
   "cell_type": "code",
   "execution_count": 3,
   "metadata": {},
   "outputs": [],
   "source": [
    "def gett(www):\n",
    "    driver.get('{}'.format(www))"
   ]
  },
  {
   "cell_type": "code",
   "execution_count": 4,
   "metadata": {},
   "outputs": [],
   "source": [
    "url_list = []\n",
    "title_list = []\n",
    "\n",
    "def urll():\n",
    "    url_list.clear()\n",
    "    title_list.clear()\n",
    "    try:\n",
    "        for j in range(1,101):\n",
    "            html = driver.page_source\n",
    "            soup = BS(html, 'html.parser')\n",
    "            for li in soup.select('#blogColl > div.coll_cont > ul > li'):\n",
    "                title = li.select_one('a.f_link_b').text\n",
    "                title_list.append(title)\n",
    "                url = li.select_one('a.f_link_b')['href']\n",
    "                url_list.append(url)\n",
    "            driver.find_element_by_xpath('//*[@id=\"pagingArea\"]/span/span[3]/a').click()\n",
    "            time.sleep(5)\n",
    "#             if j%10 == 0:\n",
    "#                 print(j)\n",
    "    except:\n",
    "        pass\n",
    "    return url_list, title_list"
   ]
  },
  {
   "cell_type": "code",
   "execution_count": 5,
   "metadata": {},
   "outputs": [],
   "source": [
    "doc_list = []\n",
    "def tab(url_list):\n",
    "    doc_list.clear()\n",
    "    for i in tqdm(range(len(url_list))):  #(0,len(url_list)):\n",
    "            url_path = url_list[i]\n",
    "            driver.switch_to_window(driver.window_handles[0]) # 탭 0번 전환  #켜진 순서\n",
    "            driver.execute_script(\"window.open('{}')\".format(url_path))  #문서 순서대로 탭 켜짐\n",
    "            driver.switch_to_window(driver.window_handles[1]) # 탭 1번 전환  #켜진 탭으로..\n",
    "            time.sleep(5)\n",
    "\n",
    "            html = driver.page_source #개발자도구\n",
    "            soup = BS(html, 'html.parser') #...\n",
    "            try:\n",
    "                b= soup.select('div > p')\n",
    "                b = re.sub(\"[^ㄱ-ㅎㅏ-ㅣ가-힣 ]\", \"\", str(b))\n",
    "            except :\n",
    "                b = 'x'\n",
    "            doc_list.append(b)\n",
    "\n",
    "            driver.close() #켜진 탭 하나(긁어온 탭)만 종료   #driver.quit() : 켜진 크롬 다 종료\n",
    "#             if i % 10 == 0 :\n",
    "#                 print(i)\n",
    "            time.sleep(3)\n",
    "    return doc_list"
   ]
  },
  {
   "cell_type": "code",
   "execution_count": 6,
   "metadata": {},
   "outputs": [],
   "source": [
    "def save_pkl(query_txt): #파일 저장\n",
    "    raw_data = pd.DataFrame() #크롤링한 데이터를 판다스 데이터프레임형식으로 저장\n",
    "    raw_data['title'] = title_list #제목\n",
    "    raw_data['doc'] = doc_list #내용\n",
    "    raw_data['url'] = url_list #url\n",
    "    raw_data['ch'] = 'daum' \n",
    "    raw_data['ch2'] = 'blog' \n",
    "    \n",
    "    \n",
    "    f = open(file_path + \"{}.pkl\".format(query_txt), \"wb\")\n",
    "    pickle.dump(raw_data, f)\n",
    "    f.close()"
   ]
  },
  {
   "cell_type": "code",
   "execution_count": 2,
   "metadata": {},
   "outputs": [],
   "source": [
    "gett('https://search.daum.net/search?w=blog&nil_search=btn&DA=STC&enc=utf8&q=대전 지역경제&sd=20180101000000&ed=20201231235959&period=u&f=section&SA=daumsec')\n",
    "urll()\n",
    "len(url_list)\n",
    "tab(url_list)\n",
    "save_pkl('daum_blog_2')\n",
    "# driver.quit()"
   ]
  }
 ],
 "metadata": {
  "kernelspec": {
   "display_name": "Python 3",
   "language": "python",
   "name": "python3"
  },
  "language_info": {
   "codemirror_mode": {
    "name": "ipython",
    "version": 3
   },
   "file_extension": ".py",
   "mimetype": "text/x-python",
   "name": "python",
   "nbconvert_exporter": "python",
   "pygments_lexer": "ipython3",
   "version": "3.8.5"
  }
 },
 "nbformat": 4,
 "nbformat_minor": 4
}
