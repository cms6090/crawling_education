{
 "cells": [
  {
   "cell_type": "markdown",
   "id": "c43a9dfa",
   "metadata": {},
   "source": [
    "## 네이버 블로그 크롤링"
   ]
  },
  {
   "cell_type": "code",
   "execution_count": 18,
   "id": "e3aaf960",
   "metadata": {},
   "outputs": [],
   "source": [
    "from selenium import webdriver\n",
    "import requests\n",
    "from bs4 import BeautifulSoup as BS\n",
    "import pandas as pd\n",
    "import time\n",
    "import re\n",
    "import pickle\n",
    "from selenium.webdriver.common.by import By"
   ]
  },
  {
   "cell_type": "code",
   "execution_count": 19,
   "id": "b9f98424",
   "metadata": {},
   "outputs": [],
   "source": [
    "query_txt = \"연금\""
   ]
  },
  {
   "cell_type": "code",
   "execution_count": 20,
   "id": "2622a658",
   "metadata": {},
   "outputs": [
    {
     "name": "stderr",
     "output_type": "stream",
     "text": [
      "C:\\Users\\cho03\\AppData\\Local\\Temp\\ipykernel_18920\\1463534551.py:3: DeprecationWarning: executable_path has been deprecated, please pass in a Service object\n",
      "  driver = webdriver.Chrome(path)\n"
     ]
    }
   ],
   "source": [
    "file_path = \"C:\\\\Users\\\\cho03\\\\Downloads\\\\세미나\\\\크롤링 교육\\\\code\\\\Crawling\\\\\"\n",
    "path = file_path + 'chromedriver.exe'\n",
    "driver = webdriver.Chrome(path)"
   ]
  },
  {
   "cell_type": "code",
   "execution_count": 21,
   "id": "7162e271",
   "metadata": {},
   "outputs": [
    {
     "name": "stdout",
     "output_type": "stream",
     "text": [
      "검색옵션 버튼\n"
     ]
    }
   ],
   "source": [
    "driver.get('https://www.naver.com')\n",
    "time.sleep(1)\n",
    "\n",
    "element = driver.find_element(By.ID, 'query')\n",
    "\n",
    "element.send_keys(query_txt)\n",
    "element.submit()\n",
    "\n",
    "driver.find_element(By.LINK_TEXT, \"VIEW\").click()\n",
    "time.sleep(1)\n",
    "\n",
    "driver.find_element(By.LINK_TEXT, \"블로그\").click()\n",
    "time.sleep(1)\n",
    "\n",
    "driver.find_element(By.XPATH, \"\"\"//*[@id=\"snb\"]/div[1]/div/div[2]/a\"\"\").click()\n",
    "time.sleep(1)\n",
    "print(\"검색옵션 버튼\")"
   ]
  },
  {
   "cell_type": "code",
   "execution_count": 22,
   "id": "7e263309",
   "metadata": {},
   "outputs": [
    {
     "name": "stdout",
     "output_type": "stream",
     "text": [
      "기간의 직접입력 버튼\n"
     ]
    }
   ],
   "source": [
    "driver.find_element(By.XPATH, \"\"\"//*[@id=\"snb\"]/div[2]/ul/li[3]/div/div[1]/a[9]\"\"\").click()\n",
    "time.sleep(1)\n",
    "print(\"기간의 직접입력 버튼\")"
   ]
  },
  {
   "cell_type": "code",
   "execution_count": 23,
   "id": "acc907e2",
   "metadata": {},
   "outputs": [
    {
     "name": "stdout",
     "output_type": "stream",
     "text": [
      "년\n",
      "월\n",
      "일\n"
     ]
    }
   ],
   "source": [
    "# 시작기간(data_from) 설정\n",
    "driver.find_element(By.XPATH, \"\"\"//*[@id=\"snb\"]/div[2]/ul/li[3]/div/div[2]/div[2]/div[1]/div/div/div/ul/li[20]/a\"\"\").click()\n",
    "time.sleep(1)\n",
    "print(\"년\")\n",
    "driver.find_element(By.XPATH, \"\"\"//*[@id=\"snb\"]/div[2]/ul/li[3]/div/div[2]/div[2]/div[2]/div/div/div/ul/li[1]/a\"\"\").click()\n",
    "time.sleep(1)\n",
    "print(\"월\")\n",
    "driver.find_element(By.XPATH, \"\"\"//*[@id=\"snb\"]/div[2]/ul/li[3]/div/div[2]/div[2]/div[3]/div/div/div/ul/li[1]/a\"\"\").click()\n",
    "time.sleep(1)\n",
    "print(\"일\")"
   ]
  },
  {
   "cell_type": "code",
   "execution_count": 24,
   "id": "c9ae343c",
   "metadata": {},
   "outputs": [],
   "source": [
    "# 종료기간(data_to) 설정\n",
    "driver.find_element(By.XPATH, \"\"\"//*[@id=\"snb\"]/div[2]/ul/li[3]/div/div[2]/div[1]/span[3]/a\"\"\").click()\n",
    "time.sleep(1)"
   ]
  },
  {
   "cell_type": "code",
   "execution_count": 25,
   "id": "8fbe7065",
   "metadata": {},
   "outputs": [
    {
     "name": "stdout",
     "output_type": "stream",
     "text": [
      "년\n",
      "월\n",
      "일\n"
     ]
    }
   ],
   "source": [
    "driver.find_element(By.XPATH, \"\"\"//*[@id=\"snb\"]/div[2]/ul/li[3]/div/div[2]/div[2]/div[1]/div/div/div/ul/li[20]/a\"\"\").click()\n",
    "time.sleep(1)\n",
    "print(\"년\")\n",
    "driver.find_element(By.XPATH, \"\"\"//*[@id=\"snb\"]/div[2]/ul/li[3]/div/div[2]/div[2]/div[2]/div/div/div/ul/li[12]/a\"\"\").click()\n",
    "time.sleep(1)\n",
    "print(\"월\")\n",
    "driver.find_element(By.XPATH, \"\"\"//*[@id=\"snb\"]/div[2]/ul/li[3]/div/div[2]/div[2]/div[3]/div/div/div/ul/li[31]/a\"\"\").click()\n",
    "time.sleep(1)\n",
    "print(\"일\")"
   ]
  },
  {
   "cell_type": "code",
   "execution_count": 26,
   "id": "7483dfe1",
   "metadata": {},
   "outputs": [
    {
     "name": "stdout",
     "output_type": "stream",
     "text": [
      "적용\n"
     ]
    }
   ],
   "source": [
    "driver.find_element(By.XPATH, \"\"\"//*[@id=\"snb\"]/div[2]/ul/li[3]/div/div[2]/div[3]/button\"\"\").click()\n",
    "time.sleep(1)\n",
    "print(\"적용\")"
   ]
  },
  {
   "cell_type": "code",
   "execution_count": 27,
   "id": "df5a5672",
   "metadata": {},
   "outputs": [],
   "source": [
    "import datetime\n",
    "\n",
    "def doScrollDown(whileSeconds): \n",
    "    start = datetime.datetime.now()\n",
    "    end = start + datetime.timedelta(seconds=whileSeconds)\n",
    "    while True:\n",
    "        driver.execute_script('window.scrollTo(0, document.body.scrollHeight);')\n",
    "        time.sleep(1)\n",
    "        if datetime.datetime.now() > end:\n",
    "            break"
   ]
  },
  {
   "cell_type": "code",
   "execution_count": 28,
   "id": "0ecf9a5e",
   "metadata": {},
   "outputs": [],
   "source": [
    "doScrollDown(3)"
   ]
  },
  {
   "cell_type": "code",
   "execution_count": 29,
   "id": "ad1dd332",
   "metadata": {},
   "outputs": [
    {
     "name": "stdout",
     "output_type": "stream",
     "text": [
      "11\n"
     ]
    }
   ],
   "source": [
    "title_list = []\n",
    "url_list = []\n",
    "for i in range(1,11):\n",
    "    title = driver.find_element(By.XPATH,'//*[@id=\"sp_blog_{}\"]/div/div/a'.format(i)).text\n",
    "    title2 = driver.find_element(By.XPATH, '//*[@id=\"sp_blog_{}\"]/div/div/a'.format(i))\n",
    "    url = title2.get_attribute('href')\n",
    "    \n",
    "    title_list.append(title)\n",
    "    url_list.append(url)\n",
    "    if (i % 10) == 0:\n",
    "        print(i+1)"
   ]
  },
  {
   "cell_type": "code",
   "execution_count": 30,
   "id": "ebd25ee9",
   "metadata": {},
   "outputs": [
    {
     "name": "stdout",
     "output_type": "stream",
     "text": [
      "0\n",
      "1\n",
      "2\n",
      "3\n",
      "4\n",
      "5\n",
      "6\n",
      "7\n",
      "8\n",
      "9\n"
     ]
    }
   ],
   "source": [
    "new_doc = []\n",
    "for i in range(len(url_list)):\n",
    "    url_path = url_list[i]\n",
    "    driver.switch_to.window(driver.window_handles[0])\n",
    "    driver.execute_script(\"window.open('{}')\".format(url_path))\n",
    "    driver.switch_to.window(driver.window_handles[1])\n",
    "    time.sleep(1)\n",
    "    iframes = driver.find_elements(By.TAG_NAME, 'iframe')\n",
    "    if len(iframes) > 0:\n",
    "        driver.switch_to.frame(0)\n",
    "        html = driver.page_source\n",
    "        soup = BS(html, 'html.parser')\n",
    "        try:\n",
    "            a = soup.find('div', class_= 'se-main-container').get_text()\n",
    "        except:\n",
    "            a = soup.find('div', id='postListBody')\n",
    "            a = re.sub(\"[^ㄱ-ㅎㅏ-ㅣ가-힣]\", \"\", str(a))\n",
    "        new_doc.append(a)\n",
    "        driver.switch_to.default_content()\n",
    "    \n",
    "    else:\n",
    "        new_doc.append(' ')\n",
    "    driver.close()\n",
    "    time.sleep(1)\n",
    "    print(i)"
   ]
  },
  {
   "cell_type": "code",
   "execution_count": 31,
   "id": "a5906177",
   "metadata": {},
   "outputs": [],
   "source": [
    "raw_data = pd.DataFrame()\n",
    "raw_data['title'] = title_list\n",
    "raw_data['doc'] = new_doc\n",
    "raw_data['url'] = url_list\n",
    "raw_data['ch'] = 'naver'\n",
    "raw_data['ch2'] = 'blog'"
   ]
  },
  {
   "cell_type": "code",
   "execution_count": 32,
   "id": "3572da38",
   "metadata": {},
   "outputs": [],
   "source": [
    "f = open(file_path + \"naver_blog_.pkl\", \"wb\")\n",
    "pickle.dump(raw_data,f)\n",
    "\n",
    "f.close()"
   ]
  },
  {
   "cell_type": "code",
   "execution_count": 33,
   "id": "9c333af1",
   "metadata": {},
   "outputs": [
    {
     "data": {
      "text/html": [
       "<div>\n",
       "<style scoped>\n",
       "    .dataframe tbody tr th:only-of-type {\n",
       "        vertical-align: middle;\n",
       "    }\n",
       "\n",
       "    .dataframe tbody tr th {\n",
       "        vertical-align: top;\n",
       "    }\n",
       "\n",
       "    .dataframe thead th {\n",
       "        text-align: right;\n",
       "    }\n",
       "</style>\n",
       "<table border=\"1\" class=\"dataframe\">\n",
       "  <thead>\n",
       "    <tr style=\"text-align: right;\">\n",
       "      <th></th>\n",
       "      <th>title</th>\n",
       "      <th>doc</th>\n",
       "      <th>url</th>\n",
       "      <th>ch</th>\n",
       "      <th>ch2</th>\n",
       "    </tr>\n",
       "  </thead>\n",
       "  <tbody>\n",
       "    <tr>\n",
       "      <th>0</th>\n",
       "      <td>미래에셋증권 개인연금저축 계좌개설 가입 후기</td>\n",
       "      <td></td>\n",
       "      <td>https://namsieon.com/5807</td>\n",
       "      <td>naver</td>\n",
       "      <td>blog</td>\n",
       "    </tr>\n",
       "    <tr>\n",
       "      <th>1</th>\n",
       "      <td>개인형 퇴직연금 IRP로 준비하는 연말정산 세액공제</td>\n",
       "      <td>\\n\\n\\n\\n\\n\\n\\n\\n\\n\\n\\n\\n\\n\\n\\n\\n​안녕하세요. 재테크하는제...</td>\n",
       "      <td>https://blog.naver.com/alswl09100/222960736259</td>\n",
       "      <td>naver</td>\n",
       "      <td>blog</td>\n",
       "    </tr>\n",
       "    <tr>\n",
       "      <th>2</th>\n",
       "      <td>개인형 퇴직연금 IRP 효율적으로 노후대비 하기</td>\n",
       "      <td>\\n\\n\\n\\n\\n올해가 시작된 게 엊그제 같은데 어느새 연말을 준비하고 있는 것 ...</td>\n",
       "      <td>https://blog.naver.com/eatlunche/222943537559</td>\n",
       "      <td>naver</td>\n",
       "      <td>blog</td>\n",
       "    </tr>\n",
       "    <tr>\n",
       "      <th>3</th>\n",
       "      <td>국민연금 제도와 종류 : 노후준비를 위한 IRP 퇴직연금 운용법</td>\n",
       "      <td>\\n\\n\\n\\n\\n국민연금 종류와 노후준비개인형 IRP 퇴직연금 운용방법\\n\\n\\n...</td>\n",
       "      <td>https://blog.naver.com/nara212/222922379273</td>\n",
       "      <td>naver</td>\n",
       "      <td>blog</td>\n",
       "    </tr>\n",
       "    <tr>\n",
       "      <th>4</th>\n",
       "      <td>주택연금제도 간단히 알아보기</td>\n",
       "      <td>\\n\\n\\n\\n\\n\\n\\n\\n\\n\\n\\n\\n\\n\\n\\n\\n​많은 분들이 부동산이나 ...</td>\n",
       "      <td>https://blog.naver.com/piancakorea/222967324504</td>\n",
       "      <td>naver</td>\n",
       "      <td>blog</td>\n",
       "    </tr>\n",
       "    <tr>\n",
       "      <th>5</th>\n",
       "      <td>연금저축 세액공제 한도 및 혜택 변경되는 내용 정리</td>\n",
       "      <td>\\n\\n\\n\\n\\n\\n\\n\\n\\n\\n\\n\\n\\n\\n\\n\\n연금저축 세액공제 한도 및...</td>\n",
       "      <td>https://blog.naver.com/kimgr1010/222923728854</td>\n",
       "      <td>naver</td>\n",
       "      <td>blog</td>\n",
       "    </tr>\n",
       "    <tr>\n",
       "      <th>6</th>\n",
       "      <td>연말정산 세액공제 개인형퇴직연금 IRP 퇴직연금 정리</td>\n",
       "      <td>\\n\\n\\n\\n\\n연말정산에서 세금을 절약할 수 있는공제 방법은 크게 둘로 나눌 수...</td>\n",
       "      <td>https://blog.naver.com/vipro/222962934879</td>\n",
       "      <td>naver</td>\n",
       "      <td>blog</td>\n",
       "    </tr>\n",
       "    <tr>\n",
       "      <th>7</th>\n",
       "      <td>기초연금 :: 금액, 나이, 수급자격, 신청 방법 (ft. 국민연금...</td>\n",
       "      <td>\\n\\n\\n\\n\\n\\n\\n\\n\\n\\n\\n\\n\\n\\n\\n\\n​안녕하세요. 긍정스텔라입...</td>\n",
       "      <td>https://blog.naver.com/greenher/222964264257</td>\n",
       "      <td>naver</td>\n",
       "      <td>blog</td>\n",
       "    </tr>\n",
       "    <tr>\n",
       "      <th>8</th>\n",
       "      <td>고령농업인을 위한 농지연금제도 (가입요건, 지급방식등)</td>\n",
       "      <td>\\n\\n\\n\\n\\n안녕하세요~부동산을 공부하는 쑥떡입니다. 저희부모님은 시골에서 농...</td>\n",
       "      <td>https://blog.naver.com/julian1986/222898928339</td>\n",
       "      <td>naver</td>\n",
       "      <td>blog</td>\n",
       "    </tr>\n",
       "    <tr>\n",
       "      <th>9</th>\n",
       "      <td>30년납 개인연금저축 수익률 어떻게 될까?</td>\n",
       "      <td>\\n\\n\\n\\n\\n​2003년 가입해 20년을 납입하고 앞으로 10년을 더 납입해야...</td>\n",
       "      <td>https://blog.naver.com/ishiseido77/222955995100</td>\n",
       "      <td>naver</td>\n",
       "      <td>blog</td>\n",
       "    </tr>\n",
       "  </tbody>\n",
       "</table>\n",
       "</div>"
      ],
      "text/plain": [
       "                                      title   \n",
       "0                  미래에셋증권 개인연금저축 계좌개설 가입 후기  \\\n",
       "1              개인형 퇴직연금 IRP로 준비하는 연말정산 세액공제   \n",
       "2                개인형 퇴직연금 IRP 효율적으로 노후대비 하기   \n",
       "3       국민연금 제도와 종류 : 노후준비를 위한 IRP 퇴직연금 운용법   \n",
       "4                           주택연금제도 간단히 알아보기   \n",
       "5              연금저축 세액공제 한도 및 혜택 변경되는 내용 정리   \n",
       "6             연말정산 세액공제 개인형퇴직연금 IRP 퇴직연금 정리   \n",
       "7  기초연금 :: 금액, 나이, 수급자격, 신청 방법 (ft. 국민연금...   \n",
       "8            고령농업인을 위한 농지연금제도 (가입요건, 지급방식등)   \n",
       "9                   30년납 개인연금저축 수익률 어떻게 될까?   \n",
       "\n",
       "                                                 doc   \n",
       "0                                                     \\\n",
       "1  \\n\\n\\n\\n\\n\\n\\n\\n\\n\\n\\n\\n\\n\\n\\n\\n​안녕하세요. 재테크하는제...   \n",
       "2  \\n\\n\\n\\n\\n올해가 시작된 게 엊그제 같은데 어느새 연말을 준비하고 있는 것 ...   \n",
       "3  \\n\\n\\n\\n\\n국민연금 종류와 노후준비개인형 IRP 퇴직연금 운용방법\\n\\n\\n...   \n",
       "4  \\n\\n\\n\\n\\n\\n\\n\\n\\n\\n\\n\\n\\n\\n\\n\\n​많은 분들이 부동산이나 ...   \n",
       "5  \\n\\n\\n\\n\\n\\n\\n\\n\\n\\n\\n\\n\\n\\n\\n\\n연금저축 세액공제 한도 및...   \n",
       "6  \\n\\n\\n\\n\\n연말정산에서 세금을 절약할 수 있는공제 방법은 크게 둘로 나눌 수...   \n",
       "7  \\n\\n\\n\\n\\n\\n\\n\\n\\n\\n\\n\\n\\n\\n\\n\\n​안녕하세요. 긍정스텔라입...   \n",
       "8  \\n\\n\\n\\n\\n안녕하세요~부동산을 공부하는 쑥떡입니다. 저희부모님은 시골에서 농...   \n",
       "9  \\n\\n\\n\\n\\n​2003년 가입해 20년을 납입하고 앞으로 10년을 더 납입해야...   \n",
       "\n",
       "                                               url     ch   ch2  \n",
       "0                        https://namsieon.com/5807  naver  blog  \n",
       "1   https://blog.naver.com/alswl09100/222960736259  naver  blog  \n",
       "2    https://blog.naver.com/eatlunche/222943537559  naver  blog  \n",
       "3      https://blog.naver.com/nara212/222922379273  naver  blog  \n",
       "4  https://blog.naver.com/piancakorea/222967324504  naver  blog  \n",
       "5    https://blog.naver.com/kimgr1010/222923728854  naver  blog  \n",
       "6        https://blog.naver.com/vipro/222962934879  naver  blog  \n",
       "7     https://blog.naver.com/greenher/222964264257  naver  blog  \n",
       "8   https://blog.naver.com/julian1986/222898928339  naver  blog  \n",
       "9  https://blog.naver.com/ishiseido77/222955995100  naver  blog  "
      ]
     },
     "execution_count": 33,
     "metadata": {},
     "output_type": "execute_result"
    }
   ],
   "source": [
    "f = open(file_path + \"naver_blog_.pkl\", \"rb\")\n",
    "temp_file = pickle.load(f)\n",
    "f.close()\n",
    "\n",
    "temp_file"
   ]
  },
  {
   "cell_type": "markdown",
   "id": "3c7fcf02",
   "metadata": {},
   "source": [
    "## 네이버 카페 크롤링"
   ]
  },
  {
   "cell_type": "code",
   "execution_count": 41,
   "id": "afd5634a",
   "metadata": {},
   "outputs": [],
   "source": [
    "from selenium import webdriver\n",
    "from bs4 import BeautifulSoup as BS\n",
    "import pandas as pd\n",
    "import time\n",
    "import re\n",
    "import pickle\n",
    "from selenium.webdriver.common.by import By"
   ]
  },
  {
   "cell_type": "code",
   "execution_count": 1,
   "id": "7f27c097",
   "metadata": {},
   "outputs": [
    {
     "ename": "NameError",
     "evalue": "name 'webdriver' is not defined",
     "output_type": "error",
     "traceback": [
      "\u001b[1;31m---------------------------------------------------------------------------\u001b[0m",
      "\u001b[1;31mNameError\u001b[0m                                 Traceback (most recent call last)",
      "Input \u001b[1;32mIn [1]\u001b[0m, in \u001b[0;36m<cell line: 3>\u001b[1;34m()\u001b[0m\n\u001b[0;32m      1\u001b[0m file_path \u001b[38;5;241m=\u001b[39m \u001b[38;5;124m\"\u001b[39m\u001b[38;5;124mC:\u001b[39m\u001b[38;5;130;01m\\\\\u001b[39;00m\u001b[38;5;124mUsers\u001b[39m\u001b[38;5;130;01m\\\\\u001b[39;00m\u001b[38;5;124mcho03\u001b[39m\u001b[38;5;130;01m\\\\\u001b[39;00m\u001b[38;5;124mDownloads\u001b[39m\u001b[38;5;130;01m\\\\\u001b[39;00m\u001b[38;5;124m세미나\u001b[39m\u001b[38;5;130;01m\\\\\u001b[39;00m\u001b[38;5;124mcode\u001b[39m\u001b[38;5;130;01m\\\\\u001b[39;00m\u001b[38;5;124mCrawling\u001b[39m\u001b[38;5;130;01m\\\\\u001b[39;00m\u001b[38;5;124m\"\u001b[39m\n\u001b[0;32m      2\u001b[0m path \u001b[38;5;241m=\u001b[39m file_path \u001b[38;5;241m+\u001b[39m \u001b[38;5;124m'\u001b[39m\u001b[38;5;124mchromedriver.exe\u001b[39m\u001b[38;5;124m'\u001b[39m\n\u001b[1;32m----> 3\u001b[0m driver \u001b[38;5;241m=\u001b[39m \u001b[43mwebdriver\u001b[49m\u001b[38;5;241m.\u001b[39mChrome(path)\n",
      "\u001b[1;31mNameError\u001b[0m: name 'webdriver' is not defined"
     ]
    }
   ],
   "source": [
    "file_path = \"C:\\\\Users\\\\cho03\\\\Downloads\\\\세미나\\\\code\\\\Crawling\\\\\"\n",
    "path = file_path + 'chromedriver.exe'\n",
    "driver = webdriver.Chrome(path)"
   ]
  },
  {
   "cell_type": "code",
   "execution_count": null,
   "id": "347e6cc4",
   "metadata": {},
   "outputs": [],
   "source": [
    "query_txt = \"연금\""
   ]
  },
  {
   "cell_type": "code",
   "execution_count": 44,
   "id": "153fa473",
   "metadata": {},
   "outputs": [],
   "source": [
    "driver.get('https://www.naver.com')\n",
    "time.sleep(1)\n",
    "\n",
    "element = driver.find_element(By.ID, 'query')\n",
    "element.send_keys(query_txt)\n",
    "element.submit()"
   ]
  },
  {
   "cell_type": "code",
   "execution_count": 45,
   "id": "16458246",
   "metadata": {},
   "outputs": [
    {
     "name": "stdout",
     "output_type": "stream",
     "text": [
      "검색옵션 버튼\n",
      "기간의 직접입력 버튼\n"
     ]
    }
   ],
   "source": [
    "driver.find_element(By.LINK_TEXT, \"VIEW\").click()\n",
    "time.sleep(1)\n",
    "\n",
    "driver.find_element(By.LINK_TEXT, \"카페\").click()\n",
    "time.sleep(1)\n",
    "\n",
    "driver.find_element(By.XPATH, \"\"\"//*[@id=\"snb\"]/div[1]/div/div[2]/a\"\"\").click()\n",
    "time.sleep(1)\n",
    "print(\"검색옵션 버튼\")\n",
    "\n",
    "driver.find_element(By.XPATH, \"\"\"//*[@id=\"snb\"]/div[2]/ul/li[4]/div/div[1]/a[9]\"\"\").click()\n",
    "time.sleep(1)\n",
    "print(\"기간의 직접입력 버튼\")"
   ]
  },
  {
   "cell_type": "code",
   "execution_count": 46,
   "id": "c68a7d05",
   "metadata": {},
   "outputs": [
    {
     "name": "stdout",
     "output_type": "stream",
     "text": [
      "년\n",
      "월\n",
      "일\n"
     ]
    }
   ],
   "source": [
    "# 시작기간(data_from) 설정\n",
    "driver.find_element(By.XPATH, \"\"\"//*[@id=\"snb\"]/div[2]/ul/li[4]/div/div[2]/div[2]/div[1]/div/div/div/ul/li[33]/a\"\"\").click()\n",
    "time.sleep(1)\n",
    "print(\"년\")\n",
    "driver.find_element(By.XPATH, \"\"\"//*[@id=\"snb\"]/div[2]/ul/li[4]/div/div[2]/div[2]/div[2]/div/div/div/ul/li[1]/a\"\"\").click()\n",
    "time.sleep(1)\n",
    "print(\"월\")\n",
    "driver.find_element(By.XPATH, \"\"\"//*[@id=\"snb\"]/div[2]/ul/li[4]/div/div[2]/div[2]/div[3]/div/div/div/ul/li[1]/a\"\"\").click()\n",
    "time.sleep(1)\n",
    "print(\"일\")"
   ]
  },
  {
   "cell_type": "code",
   "execution_count": 47,
   "id": "29c7d0b3",
   "metadata": {},
   "outputs": [],
   "source": [
    "# 종료기간 누르기\n",
    "driver.find_element(By.XPATH, \"\"\"//*[@id=\"snb\"]/div[2]/ul/li[4]/div/div[2]/div[1]/span[3]/a\"\"\").click()\n",
    "time.sleep(1)"
   ]
  },
  {
   "cell_type": "code",
   "execution_count": 48,
   "id": "bdcbc04c",
   "metadata": {},
   "outputs": [
    {
     "name": "stdout",
     "output_type": "stream",
     "text": [
      "년\n",
      "월\n",
      "일\n"
     ]
    }
   ],
   "source": [
    "# 종료기간(data_to) 설정\n",
    "driver.find_element(By.XPATH, \"\"\"//*[@id=\"snb\"]/div[2]/ul/li[4]/div/div[2]/div[2]/div[1]/div/div/div/ul/li[33]/a\"\"\").click()\n",
    "time.sleep(1)\n",
    "print(\"년\")\n",
    "driver.find_element(By.XPATH, \"\"\"//*[@id=\"snb\"]/div[2]/ul/li[4]/div/div[2]/div[2]/div[2]/div/div/div/ul/li[1]/a\"\"\").click()\n",
    "time.sleep(1)\n",
    "print(\"월\")\n",
    "driver.find_element(By.XPATH, \"\"\"//*[@id=\"snb\"]/div[2]/ul/li[4]/div/div[2]/div[2]/div[3]/div/div/div/ul/li[31]/a\"\"\").click()\n",
    "time.sleep(1)\n",
    "print(\"일\")\n",
    "driver.find_element(By.XPATH, \"\"\"//*[@id=\"snb\"]/div[2]/ul/li[4]/div/div[2]/div[3]/button\"\"\").click()"
   ]
  },
  {
   "cell_type": "code",
   "execution_count": 50,
   "id": "f9fe2ef8",
   "metadata": {},
   "outputs": [],
   "source": [
    "import datetime\n",
    "\n",
    "def doScrollDown(whileSeconds):\n",
    "    start = datetime.datetime.now()\n",
    "    end = start + datetime.timedelta(seconds=whileSeconds)\n",
    "    while True:\n",
    "        time.sleep(0.5)\n",
    "        driver.execute_script('window.scrollTo(0,document.body.scrollHeight);')\n",
    "        if datetime.datetime.now() > end:\n",
    "            break\n",
    "            \n",
    "doScrollDown(60)"
   ]
  },
  {
   "cell_type": "code",
   "execution_count": 51,
   "id": "71328ea3",
   "metadata": {},
   "outputs": [
    {
     "name": "stdout",
     "output_type": "stream",
     "text": [
      "10\n",
      "20\n",
      "30\n",
      "40\n",
      "50\n",
      "60\n",
      "70\n",
      "80\n",
      "90\n",
      "100\n"
     ]
    }
   ],
   "source": [
    "title_list = []\n",
    "url_list = []\n",
    "\n",
    "for i in range(1,101):\n",
    "    title = driver.find_element(By.XPATH,'//*[@id=\"_view_review_body_html\"]/div/more-contents/div/ul/li[{}]/div[1]/div/a'.format(i)).text\n",
    "    title2 = driver.find_element(By.XPATH,'//*[@id=\"_view_review_body_html\"]/div/more-contents/div/ul/li[{}]/div[1]/div/a'.format(i))\n",
    "    url = title2.get_attribute('href')\n",
    "    \n",
    "    title_list.append(title)\n",
    "    url_list.append(url)\n",
    "    if(i % 10 == 0):\n",
    "        print(i)"
   ]
  },
  {
   "cell_type": "code",
   "execution_count": 52,
   "id": "c6de36bc",
   "metadata": {},
   "outputs": [
    {
     "name": "stdout",
     "output_type": "stream",
     "text": [
      "0\n",
      "10\n",
      "20\n",
      "30\n",
      "40\n",
      "50\n",
      "60\n",
      "70\n",
      "80\n",
      "90\n"
     ]
    }
   ],
   "source": [
    "new_doc = []\n",
    "\n",
    "for i in range(0, len(url_list)):\n",
    "    url_path = url_list[i]\n",
    "    driver.switch_to.window(driver.window_handles[0])\n",
    "    driver.execute_script(\"window.open('{}')\".format(url_path))\n",
    "    driver.switch_to.window(driver.window_handles[1])\n",
    "    \n",
    "    time.sleep(2)\n",
    "    \n",
    "    iframes = driver.find_elements(By.TAG_NAME, 'iframe')\n",
    "    \n",
    "    if len(iframes) > 0:\n",
    "        driver.switch_to.frame('cafe_main')\n",
    "        html = driver.page_source\n",
    "        soup = BS(html, 'html.parser')\n",
    "        try:\n",
    "            a = soup.find('div', class_='article_viewer').get_text()\n",
    "        except:\n",
    "            a = 'null'\n",
    "        new_doc.append(a)\n",
    "        driver.switch_to.default_content()\n",
    "    else:\n",
    "        a = 'null'\n",
    "        \n",
    "    driver.close()\n",
    "    time.sleep(1)\n",
    "    if i%10 == 0:\n",
    "        print(i)"
   ]
  },
  {
   "cell_type": "code",
   "execution_count": 53,
   "id": "8cbbd02c",
   "metadata": {},
   "outputs": [],
   "source": [
    "raw_data = pd.DataFrame()\n",
    "raw_data['title'] = title_list\n",
    "raw_data['doc'] = new_doc\n",
    "raw_data['url'] = url_list\n",
    "raw_data['ch'] = 'naver'\n",
    "raw_data['ch2'] = 'cafe'"
   ]
  },
  {
   "cell_type": "code",
   "execution_count": 54,
   "id": "03601eb0",
   "metadata": {},
   "outputs": [],
   "source": [
    "f = open(file_path + \"naver_cafe_.pkl\", \"wb\")\n",
    "pickle.dump(raw_data,f)\n",
    "\n",
    "f.close()"
   ]
  },
  {
   "cell_type": "code",
   "execution_count": 55,
   "id": "7ed2b7a3",
   "metadata": {},
   "outputs": [],
   "source": [
    "driver.quit()"
   ]
  },
  {
   "cell_type": "code",
   "execution_count": 56,
   "id": "3048a841",
   "metadata": {},
   "outputs": [
    {
     "data": {
      "text/html": [
       "<div>\n",
       "<style scoped>\n",
       "    .dataframe tbody tr th:only-of-type {\n",
       "        vertical-align: middle;\n",
       "    }\n",
       "\n",
       "    .dataframe tbody tr th {\n",
       "        vertical-align: top;\n",
       "    }\n",
       "\n",
       "    .dataframe thead th {\n",
       "        text-align: right;\n",
       "    }\n",
       "</style>\n",
       "<table border=\"1\" class=\"dataframe\">\n",
       "  <thead>\n",
       "    <tr style=\"text-align: right;\">\n",
       "      <th></th>\n",
       "      <th>title</th>\n",
       "      <th>doc</th>\n",
       "      <th>url</th>\n",
       "      <th>ch</th>\n",
       "      <th>ch2</th>\n",
       "    </tr>\n",
       "  </thead>\n",
       "  <tbody>\n",
       "    <tr>\n",
       "      <th>0</th>\n",
       "      <td>[질문]국민연금 쪽에 아시는분...1억5천이 생겨요..</td>\n",
       "      <td>\\n\\n\\n\\n\\n\\n\\n\\n\\n지금 말고....2036년도에 1억5천이 생기는 남...</td>\n",
       "      <td>https://cafe.naver.com/dohak27/1211685?art=ZXh...</td>\n",
       "      <td>naver</td>\n",
       "      <td>cafe</td>\n",
       "    </tr>\n",
       "    <tr>\n",
       "      <th>1</th>\n",
       "      <td>연금보험을 증권사로 돌리는 것?</td>\n",
       "      <td>\\n\\n\\n\\n\\n\\n\\n\\n\\n달팽이 카페에서 여러 고수님들의 팁과 고견을 탐독중...</td>\n",
       "      <td>https://cafe.naver.com/pointns/365736?art=ZXh0...</td>\n",
       "      <td>naver</td>\n",
       "      <td>cafe</td>\n",
       "    </tr>\n",
       "    <tr>\n",
       "      <th>2</th>\n",
       "      <td>기초생활생계급여,기초연금 궁금합니다.</td>\n",
       "      <td>[복지] 질문만 가능한 게시판입니다.  기본적인 정보는 적어주셔야 좀 더 정확한 답...</td>\n",
       "      <td>https://cafe.naver.com/cafe1535/784052?art=ZXh...</td>\n",
       "      <td>naver</td>\n",
       "      <td>cafe</td>\n",
       "    </tr>\n",
       "    <tr>\n",
       "      <th>3</th>\n",
       "      <td>해외이주로 인한 국민연금 환급 후기</td>\n",
       "      <td>\\n\\n\\n\\n\\n\\n\\n\\n\\n안녕하세요. 2019년 3월 미국행 비행기를 타면서...</td>\n",
       "      <td>https://cafe.naver.com/gototheusa/787034?art=Z...</td>\n",
       "      <td>naver</td>\n",
       "      <td>cafe</td>\n",
       "    </tr>\n",
       "    <tr>\n",
       "      <th>4</th>\n",
       "      <td>퇴직했는데 국민연금을 계속 넣어야 할지 고민입니다ㅜㅜ</td>\n",
       "      <td>◈질문은 반드시 질문게시판에 작성 바랍니다. 댓글 작성자에게 EXP가 부여됩니다. ...</td>\n",
       "      <td>https://cafe.naver.com/hotellife/1689688?art=Z...</td>\n",
       "      <td>naver</td>\n",
       "      <td>cafe</td>\n",
       "    </tr>\n",
       "    <tr>\n",
       "      <th>...</th>\n",
       "      <td>...</td>\n",
       "      <td>...</td>\n",
       "      <td>...</td>\n",
       "      <td>...</td>\n",
       "      <td>...</td>\n",
       "    </tr>\n",
       "    <tr>\n",
       "      <th>95</th>\n",
       "      <td>자녀 연금보험 문의</td>\n",
       "      <td>✅ 월급쟁이 재테크 연구카페 보험전문가는 보험업법을 준수하며 정확한 정보와 정직한 ...</td>\n",
       "      <td>https://cafe.naver.com/onepieceholicplus/36185...</td>\n",
       "      <td>naver</td>\n",
       "      <td>cafe</td>\n",
       "    </tr>\n",
       "    <tr>\n",
       "      <th>96</th>\n",
       "      <td>개인 연금 잘 아시는분들 조언부탁드려요</td>\n",
       "      <td>※파우더룸에는 꼼꼼한 카페회원을 위한 공식 보험전문가가 배정되어 있습니다.   ※꼭...</td>\n",
       "      <td>https://cafe.naver.com/cosmania/33970126?art=Z...</td>\n",
       "      <td>naver</td>\n",
       "      <td>cafe</td>\n",
       "    </tr>\n",
       "    <tr>\n",
       "      <th>97</th>\n",
       "      <td>IRP, 개인퇴직연금저축 해지 질문드려요</td>\n",
       "      <td>\\n\\n\\n\\n\\n\\n\\n\\n\\n​안녕하세요!인터넷 검색도 해보고, 고객센터문의도 ...</td>\n",
       "      <td>https://cafe.naver.com/onepieceholicplus/36136...</td>\n",
       "      <td>naver</td>\n",
       "      <td>cafe</td>\n",
       "    </tr>\n",
       "    <tr>\n",
       "      <th>98</th>\n",
       "      <td>퇴직연금,,,,(기업 -&gt; 개인IRP 입금)</td>\n",
       "      <td>\\n\\n\\n\\n\\n\\n\\n\\n\\n&lt; 아래 내용이 궁금합니다 회원님들의 지식을 나누어...</td>\n",
       "      <td>https://cafe.naver.com/serplove/743302?art=ZXh...</td>\n",
       "      <td>naver</td>\n",
       "      <td>cafe</td>\n",
       "    </tr>\n",
       "    <tr>\n",
       "      <th>99</th>\n",
       "      <td>일용직 건강 연금 가입대상</td>\n",
       "      <td>\\n\\n\\n\\n\\n\\n\\n\\n\\n일용직 처음 연금 건강 신고해서 처리중인데요.. 어...</td>\n",
       "      <td>https://cafe.naver.com/0moo/348948?art=ZXh0ZXJ...</td>\n",
       "      <td>naver</td>\n",
       "      <td>cafe</td>\n",
       "    </tr>\n",
       "  </tbody>\n",
       "</table>\n",
       "<p>100 rows × 5 columns</p>\n",
       "</div>"
      ],
      "text/plain": [
       "                             title   \n",
       "0   [질문]국민연금 쪽에 아시는분...1억5천이 생겨요..  \\\n",
       "1                연금보험을 증권사로 돌리는 것?   \n",
       "2             기초생활생계급여,기초연금 궁금합니다.   \n",
       "3              해외이주로 인한 국민연금 환급 후기   \n",
       "4    퇴직했는데 국민연금을 계속 넣어야 할지 고민입니다ㅜㅜ   \n",
       "..                             ...   \n",
       "95                      자녀 연금보험 문의   \n",
       "96           개인 연금 잘 아시는분들 조언부탁드려요   \n",
       "97          IRP, 개인퇴직연금저축 해지 질문드려요   \n",
       "98        퇴직연금,,,,(기업 -> 개인IRP 입금)   \n",
       "99                  일용직 건강 연금 가입대상   \n",
       "\n",
       "                                                  doc   \n",
       "0   \\n\\n\\n\\n\\n\\n\\n\\n\\n지금 말고....2036년도에 1억5천이 생기는 남...  \\\n",
       "1   \\n\\n\\n\\n\\n\\n\\n\\n\\n달팽이 카페에서 여러 고수님들의 팁과 고견을 탐독중...   \n",
       "2   [복지] 질문만 가능한 게시판입니다.  기본적인 정보는 적어주셔야 좀 더 정확한 답...   \n",
       "3   \\n\\n\\n\\n\\n\\n\\n\\n\\n안녕하세요. 2019년 3월 미국행 비행기를 타면서...   \n",
       "4   ◈질문은 반드시 질문게시판에 작성 바랍니다. 댓글 작성자에게 EXP가 부여됩니다. ...   \n",
       "..                                                ...   \n",
       "95  ✅ 월급쟁이 재테크 연구카페 보험전문가는 보험업법을 준수하며 정확한 정보와 정직한 ...   \n",
       "96  ※파우더룸에는 꼼꼼한 카페회원을 위한 공식 보험전문가가 배정되어 있습니다.   ※꼭...   \n",
       "97  \\n\\n\\n\\n\\n\\n\\n\\n\\n​안녕하세요!인터넷 검색도 해보고, 고객센터문의도 ...   \n",
       "98  \\n\\n\\n\\n\\n\\n\\n\\n\\n< 아래 내용이 궁금합니다 회원님들의 지식을 나누어...   \n",
       "99  \\n\\n\\n\\n\\n\\n\\n\\n\\n일용직 처음 연금 건강 신고해서 처리중인데요.. 어...   \n",
       "\n",
       "                                                  url     ch   ch2  \n",
       "0   https://cafe.naver.com/dohak27/1211685?art=ZXh...  naver  cafe  \n",
       "1   https://cafe.naver.com/pointns/365736?art=ZXh0...  naver  cafe  \n",
       "2   https://cafe.naver.com/cafe1535/784052?art=ZXh...  naver  cafe  \n",
       "3   https://cafe.naver.com/gototheusa/787034?art=Z...  naver  cafe  \n",
       "4   https://cafe.naver.com/hotellife/1689688?art=Z...  naver  cafe  \n",
       "..                                                ...    ...   ...  \n",
       "95  https://cafe.naver.com/onepieceholicplus/36185...  naver  cafe  \n",
       "96  https://cafe.naver.com/cosmania/33970126?art=Z...  naver  cafe  \n",
       "97  https://cafe.naver.com/onepieceholicplus/36136...  naver  cafe  \n",
       "98  https://cafe.naver.com/serplove/743302?art=ZXh...  naver  cafe  \n",
       "99  https://cafe.naver.com/0moo/348948?art=ZXh0ZXJ...  naver  cafe  \n",
       "\n",
       "[100 rows x 5 columns]"
      ]
     },
     "execution_count": 56,
     "metadata": {},
     "output_type": "execute_result"
    }
   ],
   "source": [
    "f = open(file_path + \"naver_cafe_.pkl\", \"rb\")\n",
    "temp_file = pickle.load(f)\n",
    "f.close()\n",
    "\n",
    "temp_file"
   ]
  }
 ],
 "metadata": {
  "kernelspec": {
   "display_name": "Python 3 (ipykernel)",
   "language": "python",
   "name": "python3"
  },
  "language_info": {
   "codemirror_mode": {
    "name": "ipython",
    "version": 3
   },
   "file_extension": ".py",
   "mimetype": "text/x-python",
   "name": "python",
   "nbconvert_exporter": "python",
   "pygments_lexer": "ipython3",
   "version": "3.9.12"
  }
 },
 "nbformat": 4,
 "nbformat_minor": 5
}
