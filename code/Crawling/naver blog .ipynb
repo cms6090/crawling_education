{
 "cells": [
  {
   "cell_type": "code",
   "execution_count": 1,
   "metadata": {},
   "outputs": [],
   "source": [
    "from selenium import webdriver\n",
    "import requests\n",
    "from bs4 import BeautifulSoup as BS\n",
    "import pandas as pd\n",
    "import time\n",
    "import re\n",
    "import pickle"
   ]
  },
  {
   "cell_type": "code",
   "execution_count": 2,
   "metadata": {},
   "outputs": [],
   "source": [
    "query_txt = '대전 지역경제' # 검색어\n",
    "start_date = '20180101'\n",
    "end_date = '20201231'"
   ]
  },
  {
   "cell_type": "code",
   "execution_count": 3,
   "metadata": {},
   "outputs": [
    {
     "name": "stderr",
     "output_type": "stream",
     "text": [
      "C:\\Users\\cho03\\AppData\\Local\\Temp\\ipykernel_3964\\1370352008.py:3: DeprecationWarning: executable_path has been deprecated, please pass in a Service object\n",
      "  driver = webdriver.Chrome(path)\n",
      "Incompatible release of chromedriver (version 113.0.5672.63) detected in PATH: C:\\Users\\cho03\\Downloads\\���̳�\\ũ�Ѹ� ����\\code\\Crawling\\chromedriver.exe\n"
     ]
    }
   ],
   "source": [
    "file_path = 'C:\\대전 크롤링_추가15분야\\\\' # 파일 경로 바꿀것\n",
    "path = file_path + 'chromedriver.exe' #크롬드라이버\n",
    "driver = webdriver.Chrome(path)"
   ]
  },
  {
   "cell_type": "code",
   "execution_count": 4,
   "metadata": {},
   "outputs": [
    {
     "ename": "AttributeError",
     "evalue": "'WebDriver' object has no attribute 'find_element_by_id'",
     "output_type": "error",
     "traceback": [
      "\u001b[1;31m---------------------------------------------------------------------------\u001b[0m",
      "\u001b[1;31mAttributeError\u001b[0m                            Traceback (most recent call last)",
      "Input \u001b[1;32mIn [4]\u001b[0m, in \u001b[0;36m<cell line: 4>\u001b[1;34m()\u001b[0m\n\u001b[0;32m      1\u001b[0m driver\u001b[38;5;241m.\u001b[39mget(\u001b[38;5;124m'\u001b[39m\u001b[38;5;124mhttps://www.naver.com\u001b[39m\u001b[38;5;124m'\u001b[39m)\n\u001b[0;32m      2\u001b[0m time\u001b[38;5;241m.\u001b[39msleep(\u001b[38;5;241m3\u001b[39m) \u001b[38;5;66;03m#페이지 켜지는 시간 고려\u001b[39;00m\n\u001b[1;32m----> 4\u001b[0m element \u001b[38;5;241m=\u001b[39m \u001b[43mdriver\u001b[49m\u001b[38;5;241;43m.\u001b[39;49m\u001b[43mfind_element_by_id\u001b[49m(\u001b[38;5;124m'\u001b[39m\u001b[38;5;124mquery\u001b[39m\u001b[38;5;124m'\u001b[39m)\n\u001b[0;32m      5\u001b[0m element\u001b[38;5;241m.\u001b[39msend_keys(query_txt) \u001b[38;5;66;03m#검색어 입력\u001b[39;00m\n\u001b[0;32m      6\u001b[0m element\u001b[38;5;241m.\u001b[39msubmit() \u001b[38;5;66;03m#엔터\u001b[39;00m\n",
      "\u001b[1;31mAttributeError\u001b[0m: 'WebDriver' object has no attribute 'find_element_by_id'"
     ]
    }
   ],
   "source": [
    "driver.get('https://www.naver.com')\n",
    "time.sleep(3) #페이지 켜지는 시간 고려\n",
    "\n",
    "element = driver.find_element(By.ID, 'query')\n",
    "element.send_keys(query_txt) #검색어 입력\n",
    "element.submit() #엔터\n",
    "\n",
    "driver.find_element_by_link_text(\"블로그\").click()\n",
    "time.sleep(3)"
   ]
  },
  {
   "cell_type": "code",
   "execution_count": null,
   "metadata": {},
   "outputs": [],
   "source": [
    "driver.find_element_by_id(\"search_option_button\").click()\n",
    "time.sleep(6)\n",
    "print(\"ok\")\n",
    "driver.find_element_by_xpath(\"\"\"//*[@id=\"snb\"]/div/ul/li[1]/a\"\"\").click() #정렬\n",
    "time.sleep(3)\n",
    "print(1)"
   ]
  },
  {
   "cell_type": "code",
   "execution_count": null,
   "metadata": {},
   "outputs": [],
   "source": [
    "driver.find_element_by_xpath(\"\"\"//*[@id='snb']/div/ul/li[1]/div/ul/li[1]/a\"\"\").click() #관련도\n",
    "time.sleep(3)\n",
    "print(1)\n",
    "driver.find_element_by_xpath(\"//*[@id='snb']/div/ul/li[2]/a\").click() #기간\n",
    "time.sleep(3)\n",
    "print(\"ok\")"
   ]
  },
  {
   "cell_type": "code",
   "execution_count": null,
   "metadata": {},
   "outputs": [],
   "source": [
    "s_date = driver.find_element_by_xpath('//*[@id=\"date_from_input\"]') #지정 start date로 입력\n",
    "time.sleep(3)\n",
    "s_date.click()\n",
    "time.sleep(5)\n",
    "s_date.send_keys(start_date)"
   ]
  },
  {
   "cell_type": "code",
   "execution_count": null,
   "metadata": {},
   "outputs": [],
   "source": [
    "e_date = driver.find_element_by_xpath('//*[@id=\"date_to_input\"]')\n",
    "time.sleep(3)\n",
    "e_date.click()\n",
    "time.sleep(5)\n",
    "e_date.send_keys(end_date)"
   ]
  },
  {
   "cell_type": "code",
   "execution_count": null,
   "metadata": {},
   "outputs": [],
   "source": [
    "time.sleep(3)\n",
    "driver.find_element_by_class_name(\"tx\").click() #적용"
   ]
  },
  {
   "cell_type": "code",
   "execution_count": null,
   "metadata": {},
   "outputs": [],
   "source": [
    "import datetime\n",
    "    \n",
    "def doScrollDown(whileSeconds):\n",
    "    start = datetime.datetime.now()\n",
    "    end = start + datetime.timedelta(seconds=whileSeconds)\n",
    "    while True:\n",
    "        driver.execute_script('window.scrollTo(0, document.body.scrollHeight);')\n",
    "        time.sleep(1)\n",
    "        if datetime.datetime.now() > end:\n",
    "            break"
   ]
  },
  {
   "cell_type": "code",
   "execution_count": null,
   "metadata": {},
   "outputs": [],
   "source": [
    "doScrollDown(100) #스크롤 지속시간"
   ]
  },
  {
   "cell_type": "code",
   "execution_count": null,
   "metadata": {},
   "outputs": [],
   "source": [
    "from tqdm import tqdm\n",
    "title_list = []\n",
    "doc_list=[]\n",
    "url_list = []\n",
    "\n",
    "for i in tqdm(range(0,10)):\n",
    "    try:\n",
    "        for_url = driver.find_element_by_xpath('//*[@id=\"sp_blog_{}\"]/div/div[2]/div/a'.format(i+1))\n",
    "    except:\n",
    "        for_url = driver.find_element_by_xpath('//*[@id=\"sp_blog_{}\"]/div/a'.format(i+1)) #문서 사진 없는 경우 오류 방지\n",
    "    doc = for_url.text\n",
    "    url = for_url.get_attribute('href')\n",
    "\n",
    "    try:\n",
    "        title = driver.find_element_by_xpath('//*[@id=\"sp_blog_{}\"]/div/a[2]'.format(i+1)).text\n",
    "    except:\n",
    "        title = driver.find_element_by_xpath('//*[@id=\"sp_blog_{}\"]/div/div[2]/div/a/div'.format(i+1)).text\n",
    "\n",
    "    title_list.append(title)\n",
    "    url_list.append(url)\n",
    "    doc_list.append(doc)"
   ]
  },
  {
   "cell_type": "code",
   "execution_count": null,
   "metadata": {},
   "outputs": [],
   "source": [
    "len(title_list)   ###"
   ]
  },
  {
   "cell_type": "code",
   "execution_count": null,
   "metadata": {},
   "outputs": [],
   "source": [
    "raw_data = pd.DataFrame()\n",
    "raw_data['title'] = title_list\n",
    "raw_data['doc'] = doc_list\n",
    "raw_data['url'] = url_list"
   ]
  },
  {
   "cell_type": "code",
   "execution_count": null,
   "metadata": {
    "scrolled": true
   },
   "outputs": [],
   "source": [
    "#raw_data"
   ]
  },
  {
   "cell_type": "code",
   "execution_count": null,
   "metadata": {},
   "outputs": [],
   "source": [
    "#내용 크롤링"
   ]
  },
  {
   "cell_type": "code",
   "execution_count": null,
   "metadata": {
    "scrolled": true
   },
   "outputs": [],
   "source": [
    "new_doc = []\n",
    "for i in range(0,len(url_list)):\n",
    "    url_path = url_list[i]\n",
    "    driver.switch_to_window(driver.window_handles[0]) # 탭 0번 전환(켜진 순서)\n",
    "    driver.execute_script(\"window.open('{}')\".format(url_path)) #문서 순서대로 탭 켜짐\n",
    "    driver.switch_to_window(driver.window_handles[1]) # 탭 1번 전환(켜진 탭으로)\n",
    "    time.sleep(5)\n",
    "    iframes = driver.find_elements_by_tag_name('iframe')\n",
    "    if len(iframes) > 0: #iframe 있는 경우만\n",
    "        try:\n",
    "            driver.switch_to_frame(0) # 첫번째 iframe\n",
    "            html = driver.page_source #개발자도구\n",
    "            soup = BS(html, 'html.parser') #개발자도구\n",
    "            try:\n",
    "                a = soup.find('div', class_='se-main-container').get_text() #iframe 속 container에서 text만 \n",
    "            except :\n",
    "                a = soup.find('div', id='postListBody') #get.text() 못씀\n",
    "                a = re.sub(\"[^ㄱ-ㅎㅏ-ㅣ가-힣 ]\", \"\", str(a)) #한글만\n",
    "            new_doc.append(a)\n",
    "            driver.switch_to_default_content() #프레임 전환하기\n",
    "        except: #\n",
    "            print(i)\n",
    "    else:\n",
    "        print(i)\n",
    "    driver.close() #켜진 탭 하나(긁어온 탭)만 종료   #driver.quit() : 켜진 크롬 다 종료\n",
    "    time.sleep(5)\n",
    "    if i%10 == 0:\n",
    "        print(i)"
   ]
  },
  {
   "cell_type": "code",
   "execution_count": null,
   "metadata": {},
   "outputs": [],
   "source": [
    "len(new_doc)"
   ]
  },
  {
   "cell_type": "code",
   "execution_count": null,
   "metadata": {},
   "outputs": [],
   "source": [
    "raw_data = pd.DataFrame()\n",
    "raw_data['title'] = title_list\n",
    "raw_data['doc'] = new_doc\n",
    "raw_data['url'] = url_list\n",
    "raw_data['ch'] = 'naver'\n",
    "raw_data['ch2'] = 'blog'"
   ]
  },
  {
   "cell_type": "code",
   "execution_count": null,
   "metadata": {
    "scrolled": true
   },
   "outputs": [],
   "source": [
    "#raw_data"
   ]
  },
  {
   "cell_type": "code",
   "execution_count": null,
   "metadata": {},
   "outputs": [],
   "source": [
    "driver.quit() #종료"
   ]
  },
  {
   "cell_type": "code",
   "execution_count": null,
   "metadata": {},
   "outputs": [],
   "source": [
    "f = open(file_path + \"\\\\1_naver blog.pkl\", \"wb\")\n",
    "pickle.dump(raw_data, f)\n",
    "\n",
    "f.close()"
   ]
  }
 ],
 "metadata": {
  "kernelspec": {
   "display_name": "Python 3 (ipykernel)",
   "language": "python",
   "name": "python3"
  },
  "language_info": {
   "codemirror_mode": {
    "name": "ipython",
    "version": 3
   },
   "file_extension": ".py",
   "mimetype": "text/x-python",
   "name": "python",
   "nbconvert_exporter": "python",
   "pygments_lexer": "ipython3",
   "version": "3.9.12"
  }
 },
 "nbformat": 4,
 "nbformat_minor": 4
}
