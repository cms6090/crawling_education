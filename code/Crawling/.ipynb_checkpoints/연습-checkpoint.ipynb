{
 "cells": [
  {
   "cell_type": "markdown",
   "id": "c43a9dfa",
   "metadata": {},
   "source": [
    "## 네이버 블로그 크롤링"
   ]
  },
  {
   "cell_type": "code",
   "execution_count": 1,
   "id": "e3aaf960",
   "metadata": {},
   "outputs": [],
   "source": [
    "from selenium import webdriver\n",
    "import requests\n",
    "from bs4 import BeautifulSoup as BS\n",
    "import pandas as pd\n",
    "import time\n",
    "import re\n",
    "import pickle\n",
    "from selenium.webdriver.common.by import By"
   ]
  },
  {
   "cell_type": "code",
   "execution_count": 2,
   "id": "b9f98424",
   "metadata": {},
   "outputs": [],
   "source": [
    "query_txt = \"연금\""
   ]
  },
  {
   "cell_type": "code",
   "execution_count": 3,
   "id": "2622a658",
   "metadata": {},
   "outputs": [
    {
     "name": "stderr",
     "output_type": "stream",
     "text": [
      "C:\\Users\\cho03\\AppData\\Local\\Temp\\ipykernel_5528\\2154787022.py:3: DeprecationWarning: executable_path has been deprecated, please pass in a Service object\n",
      "  driver = webdriver.Chrome(path)\n"
     ]
    }
   ],
   "source": [
    "file_path = \"C:\\\\Users\\\\cho03\\\\Downloads\\\\세미나\\\\code\\\\Crawling\\\\\"\n",
    "path = file_path + 'chromedriver.exe'\n",
    "driver = webdriver.Chrome(path)"
   ]
  },
  {
   "cell_type": "code",
   "execution_count": 4,
   "id": "7162e271",
   "metadata": {},
   "outputs": [
    {
     "name": "stdout",
     "output_type": "stream",
     "text": [
      "검색옵션 버튼\n"
     ]
    }
   ],
   "source": [
    "driver.get('https://www.naver.com')\n",
    "time.sleep(1)\n",
    "\n",
    "element = driver.find_element(By.ID, 'query')\n",
    "\n",
    "element.send_keys(query_txt)\n",
    "element.submit()\n",
    "\n",
    "driver.find_element(By.LINK_TEXT, \"VIEW\").click()\n",
    "time.sleep(1)\n",
    "\n",
    "driver.find_element(By.LINK_TEXT, \"블로그\").click()\n",
    "time.sleep(1)\n",
    "\n",
    "driver.find_element(By.XPATH, \"\"\"//*[@id=\"snb\"]/div[1]/div/div[2]/a\"\"\").click()\n",
    "time.sleep(1)\n",
    "print(\"검색옵션 버튼\")"
   ]
  },
  {
   "cell_type": "code",
   "execution_count": 5,
   "id": "7e263309",
   "metadata": {},
   "outputs": [
    {
     "name": "stdout",
     "output_type": "stream",
     "text": [
      "기간의 직접입력 버튼\n"
     ]
    }
   ],
   "source": [
    "driver.find_element(By.XPATH, \"\"\"//*[@id=\"snb\"]/div[2]/ul/li[3]/div/div[1]/a[9]\"\"\").click()\n",
    "time.sleep(1)\n",
    "print(\"기간의 직접입력 버튼\")"
   ]
  },
  {
   "cell_type": "code",
   "execution_count": 6,
   "id": "acc907e2",
   "metadata": {},
   "outputs": [
    {
     "name": "stdout",
     "output_type": "stream",
     "text": [
      "년\n",
      "월\n",
      "일\n"
     ]
    }
   ],
   "source": [
    "# 시작기간(data_from) 설정\n",
    "driver.find_element(By.XPATH, \"\"\"//*[@id=\"snb\"]/div[2]/ul/li[3]/div/div[2]/div[2]/div[1]/div/div/div/ul/li[20]/a\"\"\").click()\n",
    "time.sleep(1)\n",
    "print(\"년\")\n",
    "driver.find_element(By.XPATH, \"\"\"//*[@id=\"snb\"]/div[2]/ul/li[3]/div/div[2]/div[2]/div[2]/div/div/div/ul/li[1]/a\"\"\").click()\n",
    "time.sleep(1)\n",
    "print(\"월\")\n",
    "driver.find_element(By.XPATH, \"\"\"//*[@id=\"snb\"]/div[2]/ul/li[3]/div/div[2]/div[2]/div[3]/div/div/div/ul/li[1]/a\"\"\").click()\n",
    "time.sleep(1)\n",
    "print(\"일\")"
   ]
  },
  {
   "cell_type": "code",
   "execution_count": 7,
   "id": "c9ae343c",
   "metadata": {},
   "outputs": [],
   "source": [
    "# 종료기간(data_to) 설정\n",
    "driver.find_element(By.XPATH, \"\"\"//*[@id=\"snb\"]/div[2]/ul/li[3]/div/div[2]/div[1]/span[3]/a\"\"\").click()\n",
    "time.sleep(1)"
   ]
  },
  {
   "cell_type": "code",
   "execution_count": 8,
   "id": "8fbe7065",
   "metadata": {},
   "outputs": [
    {
     "name": "stdout",
     "output_type": "stream",
     "text": [
      "년\n",
      "월\n",
      "일\n"
     ]
    }
   ],
   "source": [
    "driver.find_element(By.XPATH, \"\"\"//*[@id=\"snb\"]/div[2]/ul/li[3]/div/div[2]/div[2]/div[1]/div/div/div/ul/li[20]/a\"\"\").click()\n",
    "time.sleep(1)\n",
    "print(\"년\")\n",
    "driver.find_element(By.XPATH, \"\"\"//*[@id=\"snb\"]/div[2]/ul/li[3]/div/div[2]/div[2]/div[2]/div/div/div/ul/li[12]/a\"\"\").click()\n",
    "time.sleep(1)\n",
    "print(\"월\")\n",
    "driver.find_element(By.XPATH, \"\"\"//*[@id=\"snb\"]/div[2]/ul/li[3]/div/div[2]/div[2]/div[3]/div/div/div/ul/li[31]/a\"\"\").click()\n",
    "time.sleep(1)\n",
    "print(\"일\")"
   ]
  },
  {
   "cell_type": "code",
   "execution_count": 9,
   "id": "7483dfe1",
   "metadata": {},
   "outputs": [
    {
     "name": "stdout",
     "output_type": "stream",
     "text": [
      "적용\n"
     ]
    }
   ],
   "source": [
    "driver.find_element(By.XPATH, \"\"\"//*[@id=\"snb\"]/div[2]/ul/li[3]/div/div[2]/div[3]/button\"\"\").click()\n",
    "time.sleep(1)\n",
    "print(\"적용\")"
   ]
  },
  {
   "cell_type": "code",
   "execution_count": 10,
   "id": "df5a5672",
   "metadata": {},
   "outputs": [],
   "source": [
    "import datetime\n",
    "\n",
    "def doScrollDown(whileSeconds): \n",
    "    start = datetime.datetime.now()\n",
    "    end = start + datetime.timedelta(seconds=whileSeconds)\n",
    "    while True:\n",
    "        driver.execute_script('window.scrollTo(0, document.body.scrollHeight);')\n",
    "        time.sleep(1)\n",
    "        if datetime.datetime.now() > end:\n",
    "            break"
   ]
  },
  {
   "cell_type": "code",
   "execution_count": 11,
   "id": "0ecf9a5e",
   "metadata": {},
   "outputs": [],
   "source": [
    "doScrollDown(3)"
   ]
  },
  {
   "cell_type": "code",
   "execution_count": 14,
   "id": "16d98e37",
   "metadata": {},
   "outputs": [
    {
     "name": "stdout",
     "output_type": "stream",
     "text": [
      "10\n",
      "20\n",
      "30\n",
      "40\n",
      "50\n",
      "60\n",
      "70\n",
      "80\n",
      "90\n",
      "100\n"
     ]
    }
   ],
   "source": [
    "title_list = []\n",
    "url_list = []\n",
    "for i in range(1,101):\n",
    "    try:\n",
    "        title = driver.find_element(By.XPATH,'//*[@id=\"sp_blog_{}\"]/div/div/a'.format(i)).text\n",
    "        title2 = driver.find_element(By.XPATH, '//*[@id=\"sp_blog_{}\"]/div/div/a'.format(i))\n",
    "        url = title2.get_attribute('href')\n",
    "\n",
    "    except:\n",
    "        title = driver.find_element(By.XPATH,'//*[@id=\"sp_blog_{}\"]/div/div/a'.format(i)).text\n",
    "        title2 = driver.find_element(By.XPATH, '//*[@id=\"sp_blog_{}\"]/div/div/a'.format(i))\n",
    "        url = title2.get_attribuute('href')\n",
    "        \n",
    "    title_list.append(title)\n",
    "    url_list.append(url)\n",
    "    if (i % 10) == 0:\n",
    "        print(i)"
   ]
  },
  {
   "cell_type": "code",
   "execution_count": 12,
   "id": "ad1dd332",
   "metadata": {},
   "outputs": [
    {
     "name": "stdout",
     "output_type": "stream",
     "text": [
      "10\n",
      "20\n",
      "30\n",
      "40\n",
      "50\n",
      "60\n",
      "70\n",
      "80\n",
      "90\n",
      "100\n"
     ]
    }
   ],
   "source": [
    "title_list = []\n",
    "url_list = []\n",
    "for i in range(1,101):\n",
    "    title = driver.find_element(By.XPATH,'//*[@id=\"sp_blog_{}\"]/div/div/a'.format(i)).text\n",
    "    title2 = driver.find_element(By.XPATH, '//*[@id=\"sp_blog_{}\"]/div/div/a'.format(i))\n",
    "    url = title2.get_attribute('href')\n",
    "    \n",
    "    title_list.append(title)\n",
    "    url_list.append(url)\n",
    "    if (i % 10) == 0:\n",
    "        print(i)"
   ]
  },
  {
   "cell_type": "code",
   "execution_count": 21,
   "id": "ebd25ee9",
   "metadata": {},
   "outputs": [
    {
     "name": "stdout",
     "output_type": "stream",
     "text": [
      "0\n",
      "1\n",
      "2\n",
      "3\n",
      "4\n",
      "5\n",
      "6\n",
      "7\n",
      "8\n",
      "9\n",
      "10\n",
      "11\n",
      "12\n",
      "13\n",
      "14\n",
      "15\n",
      "16\n",
      "17\n",
      "18\n",
      "19\n",
      "20\n",
      "21\n",
      "22\n",
      "23\n",
      "24\n",
      "25\n",
      "26\n",
      "27\n",
      "28\n",
      "29\n",
      "30\n",
      "31\n",
      "32\n",
      "33\n",
      "34\n",
      "35\n",
      "36\n",
      "37\n",
      "38\n",
      "39\n",
      "40\n",
      "41\n",
      "42\n",
      "43\n",
      "44\n",
      "45\n",
      "46\n",
      "47\n",
      "48\n",
      "49\n",
      "50\n",
      "51\n",
      "52\n",
      "53\n",
      "54\n",
      "55\n",
      "56\n",
      "57\n",
      "58\n",
      "59\n",
      "60\n",
      "61\n",
      "62\n",
      "63\n",
      "64\n",
      "65\n",
      "66\n",
      "67\n",
      "68\n",
      "69\n",
      "70\n",
      "71\n",
      "72\n",
      "73\n",
      "74\n",
      "75\n",
      "76\n",
      "77\n",
      "78\n",
      "79\n",
      "80\n",
      "81\n",
      "82\n",
      "83\n",
      "84\n",
      "85\n",
      "86\n",
      "87\n",
      "88\n",
      "89\n",
      "90\n",
      "91\n",
      "92\n",
      "93\n",
      "94\n",
      "95\n",
      "96\n",
      "97\n",
      "98\n",
      "99\n"
     ]
    }
   ],
   "source": [
    "new_doc = []\n",
    "for i in range(len(url_list)):\n",
    "    url_path = url_list[i]\n",
    "    driver.switch_to.window(driver.window_handles[0])\n",
    "    driver.execute_script(\"window.open('{}')\".format(url_path))\n",
    "    driver.switch_to.window(driver.window_handles[1])\n",
    "    time.sleep(1)\n",
    "    iframes = driver.find_elements(By.TAG_NAME, 'iframe')\n",
    "    if len(iframes) > 0:\n",
    "        driver.switch_to.frame(0)\n",
    "        html = driver.page_source\n",
    "        soup = BS(html, 'html.parser')\n",
    "        try:\n",
    "            a = soup.find('div', class_= 'se-main-container').get_text()\n",
    "        except:\n",
    "            a = soup.find('div', id='postListBody')\n",
    "            a = re.sub(\"[^ㄱ-ㅎㅏ-ㅣ가-힣]\", \"\", str(a))\n",
    "        new_doc.append(a)\n",
    "        driver.switch_to.default_content()\n",
    "    \n",
    "    else:\n",
    "        new_doc.append(' ')\n",
    "    driver.close()\n",
    "    time.sleep(1)\n",
    "    print(i)"
   ]
  },
  {
   "cell_type": "code",
   "execution_count": 22,
   "id": "a5906177",
   "metadata": {},
   "outputs": [],
   "source": [
    "raw_data = pd.DataFrame()\n",
    "raw_data['title'] = title_list\n",
    "raw_data['doc'] = new_doc\n",
    "raw_data['url'] = url_list\n",
    "raw_data['ch'] = 'naver'\n",
    "raw_data['ch2'] = 'blog'"
   ]
  },
  {
   "cell_type": "code",
   "execution_count": 23,
   "id": "3572da38",
   "metadata": {},
   "outputs": [],
   "source": [
    "f = open(file_path + \"naver_blog_.pkl\", \"wb\")\n",
    "pickle.dump(raw_data,f)\n",
    "\n",
    "f.close()"
   ]
  },
  {
   "cell_type": "code",
   "execution_count": 24,
   "id": "9c333af1",
   "metadata": {},
   "outputs": [
    {
     "data": {
      "text/html": [
       "<div>\n",
       "<style scoped>\n",
       "    .dataframe tbody tr th:only-of-type {\n",
       "        vertical-align: middle;\n",
       "    }\n",
       "\n",
       "    .dataframe tbody tr th {\n",
       "        vertical-align: top;\n",
       "    }\n",
       "\n",
       "    .dataframe thead th {\n",
       "        text-align: right;\n",
       "    }\n",
       "</style>\n",
       "<table border=\"1\" class=\"dataframe\">\n",
       "  <thead>\n",
       "    <tr style=\"text-align: right;\">\n",
       "      <th></th>\n",
       "      <th>title</th>\n",
       "      <th>doc</th>\n",
       "      <th>url</th>\n",
       "      <th>ch</th>\n",
       "      <th>ch2</th>\n",
       "    </tr>\n",
       "  </thead>\n",
       "  <tbody>\n",
       "    <tr>\n",
       "      <th>0</th>\n",
       "      <td>개인형 퇴직연금 IRP로 준비하는 연말정산 세액공제</td>\n",
       "      <td>\\n\\n\\n\\n\\n\\n\\n\\n\\n\\n\\n\\n\\n\\n\\n\\n​안녕하세요. 재테크하는제...</td>\n",
       "      <td>https://blog.naver.com/alswl09100/222960736259</td>\n",
       "      <td>naver</td>\n",
       "      <td>blog</td>\n",
       "    </tr>\n",
       "    <tr>\n",
       "      <th>1</th>\n",
       "      <td>개인형 퇴직연금 IRP 효율적으로 노후대비 하기</td>\n",
       "      <td>\\n\\n\\n\\n\\n올해가 시작된 게 엊그제 같은데 어느새 연말을 준비하고 있는 것 ...</td>\n",
       "      <td>https://blog.naver.com/eatlunche/222943537559</td>\n",
       "      <td>naver</td>\n",
       "      <td>blog</td>\n",
       "    </tr>\n",
       "    <tr>\n",
       "      <th>2</th>\n",
       "      <td>국민연금 제도와 종류 : 노후준비를 위한 IRP 퇴직연금 운용법</td>\n",
       "      <td>\\n\\n\\n\\n\\n국민연금 종류와 노후준비개인형 IRP 퇴직연금 운용방법\\n\\n\\n...</td>\n",
       "      <td>https://blog.naver.com/nara212/222922379273</td>\n",
       "      <td>naver</td>\n",
       "      <td>blog</td>\n",
       "    </tr>\n",
       "    <tr>\n",
       "      <th>3</th>\n",
       "      <td>주택연금제도 간단히 알아보기</td>\n",
       "      <td>\\n\\n\\n\\n\\n\\n\\n\\n\\n\\n\\n\\n\\n\\n\\n\\n​많은 분들이 부동산이나 ...</td>\n",
       "      <td>https://blog.naver.com/piancakorea/222967324504</td>\n",
       "      <td>naver</td>\n",
       "      <td>blog</td>\n",
       "    </tr>\n",
       "    <tr>\n",
       "      <th>4</th>\n",
       "      <td>연말정산 세액공제 개인형퇴직연금 IRP 퇴직연금 정리</td>\n",
       "      <td>\\n\\n\\n\\n\\n연말정산에서 세금을 절약할 수 있는공제 방법은 크게 둘로 나눌 수...</td>\n",
       "      <td>https://blog.naver.com/vipro/222962934879</td>\n",
       "      <td>naver</td>\n",
       "      <td>blog</td>\n",
       "    </tr>\n",
       "    <tr>\n",
       "      <th>...</th>\n",
       "      <td>...</td>\n",
       "      <td>...</td>\n",
       "      <td>...</td>\n",
       "      <td>...</td>\n",
       "      <td>...</td>\n",
       "    </tr>\n",
       "    <tr>\n",
       "      <th>95</th>\n",
       "      <td>공무원연금공단, 연말연시 맞아 사랑이 담긴 따듯한 나눔 활동</td>\n",
       "      <td>\\n\\n\\n\\n\\n\\n\\n\\n\\n\\n\\n\\n\\n\\n\\n\\n\\n\\n공무원연금공단, 연...</td>\n",
       "      <td>https://blog.naver.com/geps_hongbo/222959914645</td>\n",
       "      <td>naver</td>\n",
       "      <td>blog</td>\n",
       "    </tr>\n",
       "    <tr>\n",
       "      <th>96</th>\n",
       "      <td>퇴직연금 계산기 이용하기</td>\n",
       "      <td></td>\n",
       "      <td>https://itgunza.com/entry/%ED%87%B4%EC%A7%81%E...</td>\n",
       "      <td>naver</td>\n",
       "      <td>blog</td>\n",
       "    </tr>\n",
       "    <tr>\n",
       "      <th>97</th>\n",
       "      <td>[이벤트] 공무원연금공단 마스코트 우수상 기념 유튜브 구독...</td>\n",
       "      <td>\\n\\n\\n\\n\\n\\n\\n\\n\\n\\n\\n\\n\\n\\n\\n\\n공단의 귀염둥이 마스코트 ...</td>\n",
       "      <td>https://blog.naver.com/geps_hongbo/222934382633</td>\n",
       "      <td>naver</td>\n",
       "      <td>blog</td>\n",
       "    </tr>\n",
       "    <tr>\n",
       "      <th>98</th>\n",
       "      <td>[연금] 미래에셋 연금상담센터 전화번호, 한참 찾았는데요....</td>\n",
       "      <td>\\n\\n\\n\\n\\n근로소득자에게 중요한 연말정산\\n\\n\\n\\n\\n\\n\\n\\n\\n12...</td>\n",
       "      <td>https://blog.naver.com/cpath/222962340088</td>\n",
       "      <td>naver</td>\n",
       "      <td>blog</td>\n",
       "    </tr>\n",
       "    <tr>\n",
       "      <th>99</th>\n",
       "      <td>공무원연금공단, 「2022 준(準)감사인 워크숍 및 청렴특강」...</td>\n",
       "      <td>\\n\\n\\n\\n\\n\\n\\n\\n\\n\\n\\n\\n\\n\\n\\n\\n\\n\\n공무원연금공단, 「...</td>\n",
       "      <td>https://blog.naver.com/geps_hongbo/222950873346</td>\n",
       "      <td>naver</td>\n",
       "      <td>blog</td>\n",
       "    </tr>\n",
       "  </tbody>\n",
       "</table>\n",
       "<p>100 rows × 5 columns</p>\n",
       "</div>"
      ],
      "text/plain": [
       "                                    title  \\\n",
       "0            개인형 퇴직연금 IRP로 준비하는 연말정산 세액공제   \n",
       "1              개인형 퇴직연금 IRP 효율적으로 노후대비 하기   \n",
       "2     국민연금 제도와 종류 : 노후준비를 위한 IRP 퇴직연금 운용법   \n",
       "3                         주택연금제도 간단히 알아보기   \n",
       "4           연말정산 세액공제 개인형퇴직연금 IRP 퇴직연금 정리   \n",
       "..                                    ...   \n",
       "95      공무원연금공단, 연말연시 맞아 사랑이 담긴 따듯한 나눔 활동   \n",
       "96                          퇴직연금 계산기 이용하기   \n",
       "97    [이벤트] 공무원연금공단 마스코트 우수상 기념 유튜브 구독...   \n",
       "98    [연금] 미래에셋 연금상담센터 전화번호, 한참 찾았는데요....   \n",
       "99  공무원연금공단, 「2022 준(準)감사인 워크숍 및 청렴특강」...   \n",
       "\n",
       "                                                  doc  \\\n",
       "0   \\n\\n\\n\\n\\n\\n\\n\\n\\n\\n\\n\\n\\n\\n\\n\\n​안녕하세요. 재테크하는제...   \n",
       "1   \\n\\n\\n\\n\\n올해가 시작된 게 엊그제 같은데 어느새 연말을 준비하고 있는 것 ...   \n",
       "2   \\n\\n\\n\\n\\n국민연금 종류와 노후준비개인형 IRP 퇴직연금 운용방법\\n\\n\\n...   \n",
       "3   \\n\\n\\n\\n\\n\\n\\n\\n\\n\\n\\n\\n\\n\\n\\n\\n​많은 분들이 부동산이나 ...   \n",
       "4   \\n\\n\\n\\n\\n연말정산에서 세금을 절약할 수 있는공제 방법은 크게 둘로 나눌 수...   \n",
       "..                                                ...   \n",
       "95  \\n\\n\\n\\n\\n\\n\\n\\n\\n\\n\\n\\n\\n\\n\\n\\n\\n\\n공무원연금공단, 연...   \n",
       "96                                                      \n",
       "97  \\n\\n\\n\\n\\n\\n\\n\\n\\n\\n\\n\\n\\n\\n\\n\\n공단의 귀염둥이 마스코트 ...   \n",
       "98  \\n\\n\\n\\n\\n근로소득자에게 중요한 연말정산\\n\\n\\n\\n\\n\\n\\n\\n\\n12...   \n",
       "99  \\n\\n\\n\\n\\n\\n\\n\\n\\n\\n\\n\\n\\n\\n\\n\\n\\n\\n공무원연금공단, 「...   \n",
       "\n",
       "                                                  url     ch   ch2  \n",
       "0      https://blog.naver.com/alswl09100/222960736259  naver  blog  \n",
       "1       https://blog.naver.com/eatlunche/222943537559  naver  blog  \n",
       "2         https://blog.naver.com/nara212/222922379273  naver  blog  \n",
       "3     https://blog.naver.com/piancakorea/222967324504  naver  blog  \n",
       "4           https://blog.naver.com/vipro/222962934879  naver  blog  \n",
       "..                                                ...    ...   ...  \n",
       "95    https://blog.naver.com/geps_hongbo/222959914645  naver  blog  \n",
       "96  https://itgunza.com/entry/%ED%87%B4%EC%A7%81%E...  naver  blog  \n",
       "97    https://blog.naver.com/geps_hongbo/222934382633  naver  blog  \n",
       "98          https://blog.naver.com/cpath/222962340088  naver  blog  \n",
       "99    https://blog.naver.com/geps_hongbo/222950873346  naver  blog  \n",
       "\n",
       "[100 rows x 5 columns]"
      ]
     },
     "execution_count": 24,
     "metadata": {},
     "output_type": "execute_result"
    }
   ],
   "source": [
    "f = open(file_path + \"naver_blog_.pkl\", \"rb\")\n",
    "temp_file = pickle.load(f)\n",
    "f.close()\n",
    "\n",
    "temp_file"
   ]
  },
  {
   "cell_type": "markdown",
   "id": "3c7fcf02",
   "metadata": {},
   "source": [
    "## 네이버 카페 크롤링"
   ]
  },
  {
   "cell_type": "code",
   "execution_count": 112,
   "id": "afd5634a",
   "metadata": {},
   "outputs": [],
   "source": [
    "from selenium import webdriver\n",
    "from bs4 import BeautifulSoup as BS\n",
    "import pandas as pd\n",
    "import time\n",
    "import re\n",
    "import pickle\n",
    "from selenium.webdriver.common.by import By"
   ]
  },
  {
   "cell_type": "code",
   "execution_count": 113,
   "id": "7f27c097",
   "metadata": {},
   "outputs": [
    {
     "name": "stderr",
     "output_type": "stream",
     "text": [
      "C:\\Users\\cho03\\AppData\\Local\\Temp\\ipykernel_14724\\2154787022.py:3: DeprecationWarning: executable_path has been deprecated, please pass in a Service object\n",
      "  driver = webdriver.Chrome(path)\n"
     ]
    }
   ],
   "source": [
    "file_path = \"C:\\\\Users\\\\cho03\\\\Downloads\\\\세미나\\\\code\\\\Crawling\\\\\"\n",
    "path = file_path + 'chromedriver.exe'\n",
    "driver = webdriver.Chrome(path)"
   ]
  },
  {
   "cell_type": "code",
   "execution_count": 114,
   "id": "347e6cc4",
   "metadata": {},
   "outputs": [],
   "source": [
    "query_txt = \"연금\""
   ]
  },
  {
   "cell_type": "code",
   "execution_count": 115,
   "id": "153fa473",
   "metadata": {},
   "outputs": [],
   "source": [
    "driver.get('https://www.naver.com')\n",
    "time.sleep(1)\n",
    "\n",
    "element = driver.find_element(By.ID, 'query')\n",
    "element.send_keys(query_txt)\n",
    "element.submit()"
   ]
  },
  {
   "cell_type": "code",
   "execution_count": 116,
   "id": "16458246",
   "metadata": {},
   "outputs": [
    {
     "name": "stdout",
     "output_type": "stream",
     "text": [
      "검색옵션 버튼\n",
      "기간의 직접입력 버튼\n"
     ]
    }
   ],
   "source": [
    "driver.find_element(By.LINK_TEXT, \"VIEW\").click()\n",
    "time.sleep(1)\n",
    "\n",
    "driver.find_element(By.LINK_TEXT, \"카페\").click()\n",
    "time.sleep(1)\n",
    "\n",
    "driver.find_element(By.XPATH, \"\"\"//*[@id=\"snb\"]/div[1]/div/div[2]/a\"\"\").click()\n",
    "time.sleep(1)\n",
    "print(\"검색옵션 버튼\")\n",
    "\n",
    "driver.find_element(By.XPATH, \"\"\"//*[@id=\"snb\"]/div[2]/ul/li[4]/div/div[1]/a[9]\"\"\").click()\n",
    "time.sleep(1)\n",
    "print(\"기간의 직접입력 버튼\")"
   ]
  },
  {
   "cell_type": "code",
   "execution_count": 117,
   "id": "c68a7d05",
   "metadata": {},
   "outputs": [
    {
     "name": "stdout",
     "output_type": "stream",
     "text": [
      "년\n",
      "월\n",
      "일\n"
     ]
    }
   ],
   "source": [
    "# 시작기간(data_from) 설정\n",
    "driver.find_element(By.XPATH, \"\"\"//*[@id=\"snb\"]/div[2]/ul/li[4]/div/div[2]/div[2]/div[1]/div/div/div/ul/li[33]/a\"\"\").click()\n",
    "time.sleep(1)\n",
    "print(\"년\")\n",
    "driver.find_element(By.XPATH, \"\"\"//*[@id=\"snb\"]/div[2]/ul/li[4]/div/div[2]/div[2]/div[2]/div/div/div/ul/li[1]/a\"\"\").click()\n",
    "time.sleep(1)\n",
    "print(\"월\")\n",
    "driver.find_element(By.XPATH, \"\"\"//*[@id=\"snb\"]/div[2]/ul/li[4]/div/div[2]/div[2]/div[3]/div/div/div/ul/li[1]/a\"\"\").click()\n",
    "time.sleep(1)\n",
    "print(\"일\")"
   ]
  },
  {
   "cell_type": "code",
   "execution_count": 118,
   "id": "29c7d0b3",
   "metadata": {},
   "outputs": [],
   "source": [
    "# 종료기간 누르기\n",
    "driver.find_element(By.XPATH, \"\"\"//*[@id=\"snb\"]/div[2]/ul/li[4]/div/div[2]/div[1]/span[3]/a\"\"\").click()\n",
    "time.sleep(1)"
   ]
  },
  {
   "cell_type": "code",
   "execution_count": 119,
   "id": "bdcbc04c",
   "metadata": {},
   "outputs": [
    {
     "name": "stdout",
     "output_type": "stream",
     "text": [
      "년\n",
      "월\n",
      "일\n"
     ]
    }
   ],
   "source": [
    "# 종료기간(data_to) 설정\n",
    "driver.find_element(By.XPATH, \"\"\"//*[@id=\"snb\"]/div[2]/ul/li[4]/div/div[2]/div[2]/div[1]/div/div/div/ul/li[33]/a\"\"\").click()\n",
    "time.sleep(1)\n",
    "print(\"년\")\n",
    "driver.find_element(By.XPATH, \"\"\"//*[@id=\"snb\"]/div[2]/ul/li[4]/div/div[2]/div[2]/div[2]/div/div/div/ul/li[1]/a\"\"\").click()\n",
    "time.sleep(1)\n",
    "print(\"월\")\n",
    "driver.find_element(By.XPATH, \"\"\"//*[@id=\"snb\"]/div[2]/ul/li[4]/div/div[2]/div[2]/div[3]/div/div/div/ul/li[31]/a\"\"\").click()\n",
    "time.sleep(1)\n",
    "print(\"일\")\n",
    "driver.find_element(By.XPATH, \"\"\"//*[@id=\"snb\"]/div[2]/ul/li[4]/div/div[2]/div[3]/button\"\"\").click()"
   ]
  },
  {
   "cell_type": "code",
   "execution_count": 120,
   "id": "f9fe2ef8",
   "metadata": {},
   "outputs": [],
   "source": [
    "import datetime\n",
    "\n",
    "def doScrollDown(whileSeconds):\n",
    "    start = datetime.datetime.now()\n",
    "    end = start + datetime.timedelta(seconds=whileSeconds)\n",
    "    while True:\n",
    "        time.sleep(0.5)\n",
    "        driver.execute_script('window.scrollTo(0,document.body.scrollHeight);')\n",
    "        if datetime.datetime.now() > end:\n",
    "            break\n",
    "            \n",
    "doScrollDown(60)"
   ]
  },
  {
   "cell_type": "code",
   "execution_count": 121,
   "id": "71328ea3",
   "metadata": {},
   "outputs": [
    {
     "name": "stdout",
     "output_type": "stream",
     "text": [
      "10\n",
      "20\n",
      "30\n",
      "40\n",
      "50\n",
      "60\n",
      "70\n",
      "80\n",
      "90\n",
      "100\n"
     ]
    }
   ],
   "source": [
    "title_list = []\n",
    "url_list = []\n",
    "\n",
    "for i in range(1,101):\n",
    "    title = driver.find_element(By.XPATH,'//*[@id=\"_view_review_body_html\"]/div/more-contents/div/ul/li[{}]/div[1]/div/a'.format(i)).text\n",
    "    title2 = driver.find_element(By.XPATH,'//*[@id=\"_view_review_body_html\"]/div/more-contents/div/ul/li[{}]/div[1]/div/a'.format(i))\n",
    "    url = title2.get_attribute('href')\n",
    "    \n",
    "    title_list.append(title)\n",
    "    url_list.append(url)\n",
    "    if(i % 10 == 0):\n",
    "        print(i)"
   ]
  },
  {
   "cell_type": "code",
   "execution_count": 123,
   "id": "c6de36bc",
   "metadata": {},
   "outputs": [
    {
     "name": "stdout",
     "output_type": "stream",
     "text": [
      "0\n",
      "10\n",
      "20\n",
      "30\n",
      "40\n",
      "50\n",
      "60\n",
      "70\n",
      "80\n",
      "90\n"
     ]
    }
   ],
   "source": [
    "new_doc = []\n",
    "\n",
    "for i in range(0, len(url_list)):\n",
    "    url_path = url_list[i]\n",
    "    driver.switch_to.window(driver.window_handles[0])\n",
    "    driver.execute_script(\"window.open('{}')\".format(url_path))\n",
    "    driver.switch_to.window(driver.window_handles[1])\n",
    "    \n",
    "    time.sleep(2)\n",
    "    \n",
    "    iframes = driver.find_elements(By.TAG_NAME, 'iframe')\n",
    "    \n",
    "    if len(iframes) > 0:\n",
    "        driver.switch_to.frame('cafe_main')\n",
    "        html = driver.page_source\n",
    "        soup = BS(html, 'html.parser')\n",
    "        try:\n",
    "            a = soup.find('div', class_='article_viewer').get_text()\n",
    "        except:\n",
    "            a = 'null'\n",
    "        new_doc.append(a)\n",
    "        driver.switch_to.default_content()\n",
    "    else:\n",
    "        a = 'null'\n",
    "        \n",
    "    driver.close()\n",
    "    time.sleep(1)\n",
    "    if i%10 == 0:\n",
    "        print(i)"
   ]
  },
  {
   "cell_type": "code",
   "execution_count": 124,
   "id": "8cbbd02c",
   "metadata": {},
   "outputs": [],
   "source": [
    "raw_data = pd.DataFrame()\n",
    "raw_data['title'] = title_list\n",
    "raw_data['doc'] = new_doc\n",
    "raw_data['url'] = url_list\n",
    "raw_data['ch'] = 'naver'\n",
    "raw_data['ch2'] = 'cafe'"
   ]
  },
  {
   "cell_type": "code",
   "execution_count": 125,
   "id": "03601eb0",
   "metadata": {},
   "outputs": [],
   "source": [
    "f = open(file_path + \"naver_cafe_.pkl\", \"wb\")\n",
    "pickle.dump(raw_data,f)\n",
    "\n",
    "f.close()"
   ]
  },
  {
   "cell_type": "code",
   "execution_count": 126,
   "id": "7ed2b7a3",
   "metadata": {},
   "outputs": [],
   "source": [
    "driver.quit()"
   ]
  },
  {
   "cell_type": "code",
   "execution_count": 127,
   "id": "3048a841",
   "metadata": {},
   "outputs": [
    {
     "data": {
      "text/html": [
       "<div>\n",
       "<style scoped>\n",
       "    .dataframe tbody tr th:only-of-type {\n",
       "        vertical-align: middle;\n",
       "    }\n",
       "\n",
       "    .dataframe tbody tr th {\n",
       "        vertical-align: top;\n",
       "    }\n",
       "\n",
       "    .dataframe thead th {\n",
       "        text-align: right;\n",
       "    }\n",
       "</style>\n",
       "<table border=\"1\" class=\"dataframe\">\n",
       "  <thead>\n",
       "    <tr style=\"text-align: right;\">\n",
       "      <th></th>\n",
       "      <th>title</th>\n",
       "      <th>doc</th>\n",
       "      <th>url</th>\n",
       "      <th>ch</th>\n",
       "      <th>ch2</th>\n",
       "    </tr>\n",
       "  </thead>\n",
       "  <tbody>\n",
       "    <tr>\n",
       "      <th>0</th>\n",
       "      <td>[질문]국민연금 쪽에 아시는분...1억5천이 생겨요..</td>\n",
       "      <td>\\n\\n\\n\\n\\n\\n\\n\\n\\n지금 말고....2036년도에 1억5천이 생기는 남...</td>\n",
       "      <td>https://cafe.naver.com/dohak27/1211685?art=ZXh...</td>\n",
       "      <td>naver</td>\n",
       "      <td>cafe</td>\n",
       "    </tr>\n",
       "    <tr>\n",
       "      <th>1</th>\n",
       "      <td>연금보험을 증권사로 돌리는 것?</td>\n",
       "      <td>\\n\\n\\n\\n\\n\\n\\n\\n\\n지금 말고....2036년도에 1억5천이 생기는 남...</td>\n",
       "      <td>https://cafe.naver.com/pointns/365736?art=ZXh0...</td>\n",
       "      <td>naver</td>\n",
       "      <td>cafe</td>\n",
       "    </tr>\n",
       "    <tr>\n",
       "      <th>2</th>\n",
       "      <td>기초생활생계급여,기초연금 궁금합니다.</td>\n",
       "      <td>\\n\\n\\n\\n\\n\\n\\n\\n\\n달팽이 카페에서 여러 고수님들의 팁과 고견을 탐독중...</td>\n",
       "      <td>https://cafe.naver.com/cafe1535/784052?art=ZXh...</td>\n",
       "      <td>naver</td>\n",
       "      <td>cafe</td>\n",
       "    </tr>\n",
       "    <tr>\n",
       "      <th>3</th>\n",
       "      <td>해외이주로 인한 국민연금 환급 후기</td>\n",
       "      <td>[복지] 질문만 가능한 게시판입니다.  기본적인 정보는 적어주셔야 좀 더 정확한 답...</td>\n",
       "      <td>https://cafe.naver.com/gototheusa/787034?art=Z...</td>\n",
       "      <td>naver</td>\n",
       "      <td>cafe</td>\n",
       "    </tr>\n",
       "    <tr>\n",
       "      <th>4</th>\n",
       "      <td>퇴직했는데 국민연금을 계속 넣어야 할지 고민입니다ㅜㅜ</td>\n",
       "      <td>\\n\\n\\n\\n\\n\\n\\n\\n\\n안녕하세요. 2019년 3월 미국행 비행기를 타면서...</td>\n",
       "      <td>https://cafe.naver.com/hotellife/1689688?art=Z...</td>\n",
       "      <td>naver</td>\n",
       "      <td>cafe</td>\n",
       "    </tr>\n",
       "    <tr>\n",
       "      <th>...</th>\n",
       "      <td>...</td>\n",
       "      <td>...</td>\n",
       "      <td>...</td>\n",
       "      <td>...</td>\n",
       "      <td>...</td>\n",
       "    </tr>\n",
       "    <tr>\n",
       "      <th>95</th>\n",
       "      <td>DB연금같은종신보험...</td>\n",
       "      <td>\\n\\n\\n\\n\\n\\n\\n\\n\\n안녕하세요 하사 복무 중 우측어깨 회전근개 파열로 ...</td>\n",
       "      <td>https://cafe.naver.com/pusanmom/3550414?art=ZX...</td>\n",
       "      <td>naver</td>\n",
       "      <td>cafe</td>\n",
       "    </tr>\n",
       "    <tr>\n",
       "      <th>96</th>\n",
       "      <td>일용직 건강 연금 가입대상</td>\n",
       "      <td>[규칙] https://cafe.naver.com/pusanmom/2  [정지] h...</td>\n",
       "      <td>https://cafe.naver.com/0moo/348948?art=ZXh0ZXJ...</td>\n",
       "      <td>naver</td>\n",
       "      <td>cafe</td>\n",
       "    </tr>\n",
       "    <tr>\n",
       "      <th>97</th>\n",
       "      <td>알바에서 정직원된 경우 국민연금 다운신고</td>\n",
       "      <td>\\n\\n\\n\\n\\n\\n\\n\\n\\n일용직 처음 연금 건강 신고해서 처리중인데요.. 어...</td>\n",
       "      <td>https://cafe.naver.com/1stdh/224029?art=ZXh0ZX...</td>\n",
       "      <td>naver</td>\n",
       "      <td>cafe</td>\n",
       "    </tr>\n",
       "    <tr>\n",
       "      <th>98</th>\n",
       "      <td>개인연금 아시는분 계세요?</td>\n",
       "      <td>\\n\\n\\n\\n\\n\\n\\n\\n\\n안녕하세요.작년에 알바다니던 병원에정직원으로 취직해...</td>\n",
       "      <td>https://cafe.naver.com/ustock/3939743?art=ZXh0...</td>\n",
       "      <td>naver</td>\n",
       "      <td>cafe</td>\n",
       "    </tr>\n",
       "    <tr>\n",
       "      <th>99</th>\n",
       "      <td>자녀 연금보험 문의</td>\n",
       "      <td>\\n\\n\\n\\n\\n\\n\\n\\n\\n개인연금 하나 들어볼까하는데 ​국민연금과 시스템?이...</td>\n",
       "      <td>https://cafe.naver.com/onepieceholicplus/36185...</td>\n",
       "      <td>naver</td>\n",
       "      <td>cafe</td>\n",
       "    </tr>\n",
       "  </tbody>\n",
       "</table>\n",
       "<p>100 rows × 5 columns</p>\n",
       "</div>"
      ],
      "text/plain": [
       "                             title  \\\n",
       "0   [질문]국민연금 쪽에 아시는분...1억5천이 생겨요..   \n",
       "1                연금보험을 증권사로 돌리는 것?   \n",
       "2             기초생활생계급여,기초연금 궁금합니다.   \n",
       "3              해외이주로 인한 국민연금 환급 후기   \n",
       "4    퇴직했는데 국민연금을 계속 넣어야 할지 고민입니다ㅜㅜ   \n",
       "..                             ...   \n",
       "95                   DB연금같은종신보험...   \n",
       "96                  일용직 건강 연금 가입대상   \n",
       "97          알바에서 정직원된 경우 국민연금 다운신고   \n",
       "98                  개인연금 아시는분 계세요?   \n",
       "99                      자녀 연금보험 문의   \n",
       "\n",
       "                                                  doc  \\\n",
       "0   \\n\\n\\n\\n\\n\\n\\n\\n\\n지금 말고....2036년도에 1억5천이 생기는 남...   \n",
       "1   \\n\\n\\n\\n\\n\\n\\n\\n\\n지금 말고....2036년도에 1억5천이 생기는 남...   \n",
       "2   \\n\\n\\n\\n\\n\\n\\n\\n\\n달팽이 카페에서 여러 고수님들의 팁과 고견을 탐독중...   \n",
       "3   [복지] 질문만 가능한 게시판입니다.  기본적인 정보는 적어주셔야 좀 더 정확한 답...   \n",
       "4   \\n\\n\\n\\n\\n\\n\\n\\n\\n안녕하세요. 2019년 3월 미국행 비행기를 타면서...   \n",
       "..                                                ...   \n",
       "95  \\n\\n\\n\\n\\n\\n\\n\\n\\n안녕하세요 하사 복무 중 우측어깨 회전근개 파열로 ...   \n",
       "96  [규칙] https://cafe.naver.com/pusanmom/2  [정지] h...   \n",
       "97  \\n\\n\\n\\n\\n\\n\\n\\n\\n일용직 처음 연금 건강 신고해서 처리중인데요.. 어...   \n",
       "98  \\n\\n\\n\\n\\n\\n\\n\\n\\n안녕하세요.작년에 알바다니던 병원에정직원으로 취직해...   \n",
       "99  \\n\\n\\n\\n\\n\\n\\n\\n\\n개인연금 하나 들어볼까하는데 ​국민연금과 시스템?이...   \n",
       "\n",
       "                                                  url     ch   ch2  \n",
       "0   https://cafe.naver.com/dohak27/1211685?art=ZXh...  naver  cafe  \n",
       "1   https://cafe.naver.com/pointns/365736?art=ZXh0...  naver  cafe  \n",
       "2   https://cafe.naver.com/cafe1535/784052?art=ZXh...  naver  cafe  \n",
       "3   https://cafe.naver.com/gototheusa/787034?art=Z...  naver  cafe  \n",
       "4   https://cafe.naver.com/hotellife/1689688?art=Z...  naver  cafe  \n",
       "..                                                ...    ...   ...  \n",
       "95  https://cafe.naver.com/pusanmom/3550414?art=ZX...  naver  cafe  \n",
       "96  https://cafe.naver.com/0moo/348948?art=ZXh0ZXJ...  naver  cafe  \n",
       "97  https://cafe.naver.com/1stdh/224029?art=ZXh0ZX...  naver  cafe  \n",
       "98  https://cafe.naver.com/ustock/3939743?art=ZXh0...  naver  cafe  \n",
       "99  https://cafe.naver.com/onepieceholicplus/36185...  naver  cafe  \n",
       "\n",
       "[100 rows x 5 columns]"
      ]
     },
     "execution_count": 127,
     "metadata": {},
     "output_type": "execute_result"
    }
   ],
   "source": [
    "f = open(file_path + \"naver_cafe_.pkl\", \"rb\")\n",
    "temp_file = pickle.load(f)\n",
    "f.close()\n",
    "\n",
    "temp_file"
   ]
  }
 ],
 "metadata": {
  "kernelspec": {
   "display_name": "Python 3 (ipykernel)",
   "language": "python",
   "name": "python3"
  },
  "language_info": {
   "codemirror_mode": {
    "name": "ipython",
    "version": 3
   },
   "file_extension": ".py",
   "mimetype": "text/x-python",
   "name": "python",
   "nbconvert_exporter": "python",
   "pygments_lexer": "ipython3",
   "version": "3.9.12"
  }
 },
 "nbformat": 4,
 "nbformat_minor": 5
}
