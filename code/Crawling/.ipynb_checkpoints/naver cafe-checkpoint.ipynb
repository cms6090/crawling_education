{
 "cells": [
  {
   "cell_type": "code",
   "execution_count": 16,
   "metadata": {},
   "outputs": [],
   "source": [
    "from selenium import webdriver\n",
    "import requests\n",
    "from bs4 import BeautifulSoup as BS\n",
    "import pandas as pd\n",
    "import time\n",
    "import re\n",
    "import pickle"
   ]
  },
  {
   "cell_type": "code",
   "execution_count": 17,
   "metadata": {},
   "outputs": [],
   "source": [
    "query_txt = '대전 지역경제' # 검색어\n",
    "start_date = '20180101'\n",
    "end_date = '20201231'"
   ]
  },
  {
   "cell_type": "code",
   "execution_count": 18,
   "metadata": {},
   "outputs": [],
   "source": [
    "file_path = 'C:\\대전 크롤링_추가15분야\\\\' # 파일 경로 바꿀것\n",
    "path = file_path + 'chromedriver.exe' #크롬드라이버\n",
    "driver = webdriver.Chrome(path)"
   ]
  },
  {
   "cell_type": "code",
   "execution_count": 19,
   "metadata": {},
   "outputs": [],
   "source": [
    "driver.get('https://www.naver.com')\n",
    "time.sleep(3) #페이지 켜지는 시간 고려\n",
    "\n",
    "element = driver.find_element_by_id('query')\n",
    "element.send_keys(query_txt) #검색어 입력\n",
    "element.submit() #엔터\n",
    "\n",
    "driver.find_element_by_link_text(\"카페\").click()\n",
    "time.sleep(3)"
   ]
  },
  {
   "cell_type": "code",
   "execution_count": 20,
   "metadata": {},
   "outputs": [
    {
     "name": "stdout",
     "output_type": "stream",
     "text": [
      "ok\n",
      "1\n"
     ]
    }
   ],
   "source": [
    "driver.find_element_by_id(\"search_option_button\").click()\n",
    "time.sleep(6)\n",
    "print(\"ok\")\n",
    "driver.find_element_by_xpath(\"\"\"//*[@id=\"snb\"]/div/ul/li[1]/a\"\"\").click() #정렬\n",
    "time.sleep(3)\n",
    "print(1)"
   ]
  },
  {
   "cell_type": "code",
   "execution_count": 21,
   "metadata": {},
   "outputs": [
    {
     "name": "stdout",
     "output_type": "stream",
     "text": [
      "1\n",
      "ok\n"
     ]
    }
   ],
   "source": [
    "driver.find_element_by_xpath(\"\"\"//*[@id='snb']/div/ul/li[1]/div/ul/li[1]/a\"\"\").click() #관련도\n",
    "time.sleep(3)\n",
    "print(1)\n",
    "driver.find_element_by_xpath(\"//*[@id='snb']/div/ul/li[2]/a\").click() #기간\n",
    "time.sleep(3)\n",
    "print(\"ok\")"
   ]
  },
  {
   "cell_type": "code",
   "execution_count": 22,
   "metadata": {},
   "outputs": [],
   "source": [
    "s_date = driver.find_element_by_xpath('//*[@id=\"input_period_begin\"]')\n",
    "time.sleep(3)\n",
    "s_date.click()\n",
    "time.sleep(5)\n",
    "s_date.send_keys(start_date)"
   ]
  },
  {
   "cell_type": "code",
   "execution_count": 23,
   "metadata": {},
   "outputs": [],
   "source": [
    "e_date = driver.find_element_by_xpath('//*[@id=\"input_period_end\"]')\n",
    "time.sleep(3)\n",
    "e_date.click()\n",
    "time.sleep(5)\n",
    "e_date.send_keys(end_date)"
   ]
  },
  {
   "cell_type": "code",
   "execution_count": 24,
   "metadata": {},
   "outputs": [],
   "source": [
    "time.sleep(3)\n",
    "driver.find_element_by_class_name(\"tx\").click() #적용"
   ]
  },
  {
   "cell_type": "code",
   "execution_count": 25,
   "metadata": {},
   "outputs": [],
   "source": [
    "import datetime\n",
    "    \n",
    "def doScrollDown(whileSeconds):\n",
    "    start = datetime.datetime.now()\n",
    "    end = start + datetime.timedelta(seconds=whileSeconds)\n",
    "    while True:\n",
    "        driver.execute_script('window.scrollTo(0, document.body.scrollHeight);')\n",
    "        time.sleep(1)\n",
    "        if datetime.datetime.now() > end:\n",
    "            break"
   ]
  },
  {
   "cell_type": "code",
   "execution_count": 26,
   "metadata": {},
   "outputs": [],
   "source": [
    "doScrollDown(110) #스크롤 지속시간"
   ]
  },
  {
   "cell_type": "code",
   "execution_count": 27,
   "metadata": {},
   "outputs": [
    {
     "name": "stderr",
     "output_type": "stream",
     "text": [
      "100%|██████████████████████████████████████████████████████████████████████████████| 1000/1000 [04:28<00:00,  3.72it/s]\n"
     ]
    }
   ],
   "source": [
    "from tqdm import tqdm\n",
    "title_list = []\n",
    "url_list = []\n",
    "\n",
    "for i in tqdm(range(0,1000)):   \n",
    "    try : #사진유\n",
    "        title = driver.find_element_by_xpath('//*[@id=\"_view_review_body_html\"]/div/more-contents/div/ul/li[{}]/div[1]/a[2]'.format(i+1)).text\n",
    "        title2 = driver.find_element_by_xpath('//*[@id=\"_view_review_body_html\"]/div/more-contents/div/ul/li[{}]/div[1]/a[2]'.format(i+1))\n",
    "        url = title2.get_attribute('href')  \n",
    "\n",
    "    except : #사진무 \n",
    "        title = driver.find_element_by_xpath('//*[@id=\"_view_review_body_html\"]/div/more-contents/div/ul/li[{}]/div[1]/a'.format(i+1)).text\n",
    "        title2 = driver.find_element_by_xpath('//*[@id=\"_view_review_body_html\"]/div/more-contents/div/ul/li[{}]/div[1]/a'.format(i+1))\n",
    "        url = title2.get_attribute('href')\n",
    "    \n",
    "    title_list.append(title)\n",
    "    url_list.append(url)"
   ]
  },
  {
   "cell_type": "code",
   "execution_count": 28,
   "metadata": {},
   "outputs": [
    {
     "data": {
      "text/plain": [
       "1000"
      ]
     },
     "execution_count": 28,
     "metadata": {},
     "output_type": "execute_result"
    }
   ],
   "source": [
    "len(title_list)   ###"
   ]
  },
  {
   "cell_type": "code",
   "execution_count": 29,
   "metadata": {},
   "outputs": [],
   "source": [
    "#내용 크롤링"
   ]
  },
  {
   "cell_type": "code",
   "execution_count": 32,
   "metadata": {
    "scrolled": true
   },
   "outputs": [
    {
     "name": "stderr",
     "output_type": "stream",
     "text": [
      "<ipython-input-32-71a4a8523eb1>:4: DeprecationWarning: use driver.switch_to.window instead\n",
      "  driver.switch_to_window(driver.window_handles[0]) # 탭 0번 전환\n",
      "<ipython-input-32-71a4a8523eb1>:6: DeprecationWarning: use driver.switch_to.window instead\n",
      "  driver.switch_to_window(driver.window_handles[1]) # 탭 1번 전환\n",
      "<ipython-input-32-71a4a8523eb1>:17: DeprecationWarning: use driver.switch_to.default_content instead\n",
      "  driver.switch_to_default_content() #프레임 전환하기\n"
     ]
    },
    {
     "name": "stdout",
     "output_type": "stream",
     "text": [
      "150\n",
      "160\n",
      "170\n",
      "180\n",
      "190\n",
      "200\n",
      "210\n",
      "220\n",
      "230\n",
      "240\n",
      "250\n",
      "260\n",
      "270\n",
      "280\n",
      "290\n",
      "300\n",
      "310\n",
      "320\n",
      "330\n",
      "340\n",
      "350\n",
      "360\n",
      "370\n",
      "380\n",
      "390\n",
      "400\n",
      "410\n",
      "420\n",
      "430\n",
      "440\n",
      "450\n",
      "460\n",
      "470\n",
      "480\n",
      "490\n",
      "500\n",
      "510\n",
      "520\n",
      "530\n",
      "540\n",
      "550\n",
      "560\n",
      "570\n",
      "580\n",
      "590\n",
      "600\n",
      "610\n",
      "620\n",
      "630\n",
      "640\n",
      "650\n",
      "660\n",
      "670\n",
      "680\n",
      "690\n",
      "700\n",
      "709\n",
      "710\n",
      "720\n",
      "730\n",
      "740\n",
      "750\n",
      "760\n",
      "770\n",
      "780\n",
      "790\n",
      "800\n",
      "810\n",
      "820\n",
      "830\n",
      "840\n",
      "850\n",
      "860\n",
      "870\n",
      "880\n",
      "890\n",
      "900\n",
      "910\n",
      "916\n",
      "920\n",
      "930\n",
      "940\n",
      "950\n",
      "960\n",
      "970\n",
      "980\n",
      "990\n"
     ]
    }
   ],
   "source": [
    "new_doc = []\n",
    "for i in range(0,len(url_list)): \n",
    "    url_path = url_list[i]\n",
    "    driver.switch_to_window(driver.window_handles[0]) # 탭 0번 전환\n",
    "    driver.execute_script(\"window.open('{}')\".format(url_path))\n",
    "    driver.switch_to_window(driver.window_handles[1]) # 탭 1번 전환 \n",
    "    time.sleep(5)\n",
    "    \n",
    "    iframes = driver.find_elements_by_tag_name('iframe')\n",
    "    if len(iframes) > 0: #iframe 있는 경우만\n",
    "        try:\n",
    "            driver.switch_to.frame('cafe_main')\n",
    "            html = driver.page_source #개발자도구\n",
    "            soup = BS(html, 'html.parser') #개발자도구\n",
    "            a = soup.find('div', class_='article_viewer').get_text() #iframe 속 container에서 text만 \n",
    "            new_doc.append(a)\n",
    "            driver.switch_to_default_content() #프레임 전환하기\n",
    "        except:  #\n",
    "            print(i)\n",
    "    else:\n",
    "        print(i)\n",
    "    driver.close()\n",
    "    time.sleep(5)\n",
    "    if i%10 == 0:\n",
    "        print(i)"
   ]
  },
  {
   "cell_type": "code",
   "execution_count": 33,
   "metadata": {},
   "outputs": [
    {
     "data": {
      "text/plain": [
       "998"
      ]
     },
     "execution_count": 33,
     "metadata": {},
     "output_type": "execute_result"
    }
   ],
   "source": [
    "len(new_doc) "
   ]
  },
  {
   "cell_type": "code",
   "execution_count": 36,
   "metadata": {},
   "outputs": [
    {
     "data": {
      "text/plain": [
       "1000"
      ]
     },
     "execution_count": 36,
     "metadata": {},
     "output_type": "execute_result"
    }
   ],
   "source": [
    "len(new_doc)"
   ]
  },
  {
   "cell_type": "code",
   "execution_count": 37,
   "metadata": {},
   "outputs": [],
   "source": [
    "raw_data = pd.DataFrame()\n",
    "raw_data['title'] = title_list\n",
    "raw_data['doc'] = new_doc\n",
    "raw_data['url'] = url_list\n",
    "raw_data['ch'] = 'naver'\n",
    "raw_data['ch2'] = 'cafe'"
   ]
  },
  {
   "cell_type": "code",
   "execution_count": 1,
   "metadata": {
    "scrolled": true
   },
   "outputs": [],
   "source": [
    "#raw_data"
   ]
  },
  {
   "cell_type": "code",
   "execution_count": 41,
   "metadata": {},
   "outputs": [],
   "source": [
    "f = open(file_path + \"\\\\9_naver cafe.pkl\", \"wb\")\n",
    "pickle.dump(raw_data, f)\n",
    "\n",
    "f.close()"
   ]
  },
  {
   "cell_type": "code",
   "execution_count": 42,
   "metadata": {},
   "outputs": [],
   "source": [
    "driver.quit() #종료"
   ]
  },
  {
   "cell_type": "code",
   "execution_count": 2,
   "metadata": {
    "scrolled": true
   },
   "outputs": [],
   "source": [
    "f = open(file_path + '\\\\9_naver cafe.pkl', \"rb\")\n",
    "dd = pickle.load(f)\n",
    "f.close()\n",
    "\n",
    "#dd"
   ]
  }
 ],
 "metadata": {
  "kernelspec": {
   "display_name": "Python 3 (ipykernel)",
   "language": "python",
   "name": "python3"
  },
  "language_info": {
   "codemirror_mode": {
    "name": "ipython",
    "version": 3
   },
   "file_extension": ".py",
   "mimetype": "text/x-python",
   "name": "python",
   "nbconvert_exporter": "python",
   "pygments_lexer": "ipython3",
   "version": "3.9.12"
  }
 },
 "nbformat": 4,
 "nbformat_minor": 4
}
