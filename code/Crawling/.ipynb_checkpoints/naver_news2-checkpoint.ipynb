{
 "cells": [
  {
   "cell_type": "code",
   "execution_count": 1,
   "metadata": {},
   "outputs": [],
   "source": [
    "from selenium import webdriver\n",
    "import requests\n",
    "from bs4 import BeautifulSoup as BS\n",
    "import pandas as pd\n",
    "import time\n",
    "import re\n",
    "import pickle"
   ]
  },
  {
   "cell_type": "code",
   "execution_count": 2,
   "metadata": {},
   "outputs": [],
   "source": [
    "file_path = 'C:\\\\Users\\\\qkfka\\\\Desktop\\\\dd\\\\cafe\\\\' # 파일 경로 바꿀것\n",
    "path = file_path + 'chromedriver.exe' #크롬드라이버\n",
    "driver = webdriver.Chrome(path)"
   ]
  },
  {
   "cell_type": "code",
   "execution_count": 3,
   "metadata": {},
   "outputs": [],
   "source": [
    "#지역경제\n",
    "driver.get('https://search.naver.com/search.naver?where=news&query=%EB%8C%80%EC%A0%84%20%2B%EC%A7%80%EC%97%AD%EA%B2%BD%EC%A0%9C&sm=tab_opt&sort=0&photo=0&field=0&reporter_article=&pd=3&ds=2018.01.01&de=2020.12.31&docid=&nso=so%3Ar%2Cp%3Afrom20180101to20201231%2Ca%3Aall&mynews=0&refresh_start=0&related=0')"
   ]
  },
  {
   "cell_type": "code",
   "execution_count": 4,
   "metadata": {},
   "outputs": [],
   "source": [
    "driver.find_element_by_xpath('//*[@id=\"snb\"]/div/ul/li[5]/a').click() #검색옵션\n",
    "time.sleep(5)"
   ]
  },
  {
   "cell_type": "code",
   "execution_count": 5,
   "metadata": {},
   "outputs": [],
   "source": [
    "driver.find_element_by_xpath('//*[@id=\"order_cat\"]/div[1]/div/a[6]').click() #검색옵션\n",
    "time.sleep(5)"
   ]
  },
  {
   "cell_type": "code",
   "execution_count": 6,
   "metadata": {},
   "outputs": [],
   "source": [
    "driver.find_element_by_xpath('//*[@id=\"ca_2276\"]').click() #검색옵션\n",
    "time.sleep(5)"
   ]
  },
  {
   "cell_type": "code",
   "execution_count": 7,
   "metadata": {},
   "outputs": [],
   "source": [
    "driver.find_element_by_xpath('//*[@id=\"ca_2069\"]').click() #검색옵션\n",
    "time.sleep(5)"
   ]
  },
  {
   "cell_type": "code",
   "execution_count": 8,
   "metadata": {},
   "outputs": [],
   "source": [
    "driver.find_element_by_xpath('//*[@id=\"snb\"]/div/ul/li[5]/div/span/span[1]/button/span').click() #검색옵션\n",
    "time.sleep(5)"
   ]
  },
  {
   "cell_type": "markdown",
   "metadata": {},
   "source": [
    "# 뉴스설정끝"
   ]
  },
  {
   "cell_type": "code",
   "execution_count": 9,
   "metadata": {
    "scrolled": true
   },
   "outputs": [],
   "source": [
    "title_list = []\n",
    "url_list = []\n",
    "try:\n",
    "    for j in range(0,100):\n",
    "        html = driver.page_source #개발자도구\n",
    "        soup = BS(html, 'html.parser')\n",
    "        titles = soup.select('#main_pack > section > div > div.group_news > ul > li > div > div > a')\n",
    "\n",
    "        for i in range(0,10):\n",
    "            title_list.append(titles[i].text)\n",
    "            url_list.append(titles[i]['href'])\n",
    "\n",
    "        driver.find_element_by_xpath('//*[@id=\"main_pack\"]/div[3]/div/a[2]').click()\n",
    "        time.sleep(5)\n",
    "except:\n",
    "    print('.')"
   ]
  },
  {
   "cell_type": "code",
   "execution_count": 10,
   "metadata": {
    "scrolled": true
   },
   "outputs": [
    {
     "name": "stderr",
     "output_type": "stream",
     "text": [
      "<ipython-input-10-69b78780f147>:4: DeprecationWarning: use driver.switch_to.window instead\n",
      "  driver.switch_to_window(driver.window_handles[0]) # 탭 0번 전환  #켜진 순서\n",
      "<ipython-input-10-69b78780f147>:6: DeprecationWarning: use driver.switch_to.window instead\n",
      "  driver.switch_to_window(driver.window_handles[1]) # 탭 1번 전환  #켜진 탭으로..\n"
     ]
    },
    {
     "name": "stdout",
     "output_type": "stream",
     "text": [
      "0\n",
      "10\n",
      "20\n",
      "30\n",
      "40\n",
      "50\n",
      "60\n",
      "70\n",
      "80\n",
      "90\n",
      "100\n",
      "110\n",
      "120\n",
      "130\n",
      "140\n",
      "150\n",
      "160\n",
      "170\n",
      "180\n",
      "190\n",
      "200\n",
      "210\n",
      "220\n",
      "230\n",
      "240\n",
      "250\n",
      "260\n",
      "270\n",
      "280\n",
      "290\n",
      "300\n",
      "310\n",
      "320\n",
      "330\n",
      "340\n",
      "350\n",
      "360\n",
      "370\n",
      "380\n",
      "390\n",
      "400\n",
      "410\n",
      "420\n",
      "430\n",
      "440\n",
      "450\n",
      "460\n",
      "470\n",
      "480\n",
      "490\n",
      "500\n",
      "510\n",
      "520\n",
      "530\n",
      "540\n",
      "550\n",
      "560\n",
      "570\n",
      "580\n",
      "590\n",
      "600\n",
      "610\n",
      "620\n",
      "630\n",
      "640\n",
      "650\n",
      "660\n",
      "670\n",
      "680\n",
      "690\n",
      "700\n",
      "710\n",
      "720\n",
      "730\n",
      "740\n",
      "750\n",
      "760\n",
      "770\n",
      "780\n",
      "790\n",
      "800\n",
      "810\n",
      "820\n",
      "830\n",
      "840\n",
      "850\n",
      "860\n",
      "870\n",
      "880\n",
      "890\n",
      "900\n",
      "910\n",
      "920\n",
      "930\n",
      "940\n",
      "950\n",
      "960\n",
      "970\n",
      "980\n",
      "990\n"
     ]
    }
   ],
   "source": [
    "new_doc = []\n",
    "for i in range(0,len(url_list)):\n",
    "    url_path = url_list[i]\n",
    "    driver.switch_to_window(driver.window_handles[0]) # 탭 0번 전환  #켜진 순서\n",
    "    driver.execute_script(\"window.open('{}')\".format(url_path))  #문서 순서대로 탭 켜짐\n",
    "    driver.switch_to_window(driver.window_handles[1]) # 탭 1번 전환  #켜진 탭으로..\n",
    "    time.sleep(5)\n",
    "\n",
    "    html = driver.page_source #개발자도구\n",
    "    soup = BS(html, 'html.parser') #...\n",
    "    try:\n",
    "        b= soup.select('div #fontSzArea')\n",
    "        b = re.sub(\"[^ㄱ-ㅎㅏ-ㅣ가-힣 ]\", \"\", str(b))\n",
    "        if(len(b) < 10):\n",
    "            b = soup.select('div > p')\n",
    "            b = re.sub(\"[^ㄱ-ㅎㅏ-ㅣ가-힣 ]\", \"\", str(b))\n",
    "    except :\n",
    "        b = 'null'    \n",
    "        \n",
    "    new_doc.append(b)\n",
    "    driver.close()\n",
    "    time.sleep(6)\n",
    "    if i%10 == 0:\n",
    "        print(i)"
   ]
  },
  {
   "cell_type": "code",
   "execution_count": 11,
   "metadata": {},
   "outputs": [
    {
     "data": {
      "text/plain": [
       "1000"
      ]
     },
     "execution_count": 11,
     "metadata": {},
     "output_type": "execute_result"
    }
   ],
   "source": [
    "len(new_doc)"
   ]
  },
  {
   "cell_type": "code",
   "execution_count": 12,
   "metadata": {},
   "outputs": [],
   "source": [
    "raw_data = pd.DataFrame()\n",
    "raw_data['title'] = title_list\n",
    "raw_data['doc'] = new_doc\n",
    "raw_data['url'] = url_list\n",
    "raw_data['ch'] = 'naver'\n",
    "raw_data['ch2'] = 'news2'"
   ]
  },
  {
   "cell_type": "code",
   "execution_count": 1,
   "metadata": {
    "scrolled": true
   },
   "outputs": [],
   "source": [
    "#raw_data"
   ]
  },
  {
   "cell_type": "code",
   "execution_count": 14,
   "metadata": {},
   "outputs": [],
   "source": [
    "query_txt = 'naver_news2_13'"
   ]
  },
  {
   "cell_type": "code",
   "execution_count": 15,
   "metadata": {},
   "outputs": [],
   "source": [
    "f = open(file_path + \"{}.pkl\".format(query_txt), \"wb\")\n",
    "pickle.dump(raw_data, f)\n",
    "\n",
    "f.close()"
   ]
  },
  {
   "cell_type": "code",
   "execution_count": 3,
   "metadata": {
    "scrolled": true
   },
   "outputs": [],
   "source": [
    "f = open(file_path + '{}.pkl'.format(query_txt), \"rb\")\n",
    "aa = pickle.load(f)\n",
    "f.close()\n",
    "\n",
    "#aa"
   ]
  },
  {
   "cell_type": "code",
   "execution_count": 17,
   "metadata": {},
   "outputs": [],
   "source": [
    "driver.quit()"
   ]
  }
 ],
 "metadata": {
  "kernelspec": {
   "display_name": "Python 3 (ipykernel)",
   "language": "python",
   "name": "python3"
  },
  "language_info": {
   "codemirror_mode": {
    "name": "ipython",
    "version": 3
   },
   "file_extension": ".py",
   "mimetype": "text/x-python",
   "name": "python",
   "nbconvert_exporter": "python",
   "pygments_lexer": "ipython3",
   "version": "3.9.12"
  }
 },
 "nbformat": 4,
 "nbformat_minor": 4
}
