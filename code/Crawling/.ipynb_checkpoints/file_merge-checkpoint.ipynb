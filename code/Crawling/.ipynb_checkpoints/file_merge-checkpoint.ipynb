{
 "cells": [
  {
   "cell_type": "code",
   "execution_count": null,
   "metadata": {},
   "outputs": [],
   "source": [
    "import pickle\n",
    "import pandas as pd\n",
    "file_path = 'C:\\\\Users\\\\qkfka\\\\Desktop\\\\raw_data\\\\'"
   ]
  },
  {
   "cell_type": "code",
   "execution_count": null,
   "metadata": {},
   "outputs": [],
   "source": [
    "def pklopen(name,i):\n",
    "    f = open(file_path + '{}_{}.pkl'.format(name,i), \"rb\")\n",
    "    a = pickle.load(f)\n",
    "    f.close()\n",
    "    return a"
   ]
  },
  {
   "cell_type": "markdown",
   "metadata": {},
   "source": [
    "# 파일 불러오기"
   ]
  },
  {
   "cell_type": "code",
   "execution_count": null,
   "metadata": {},
   "outputs": [],
   "source": [
    "file_path = 'C:\\\\Users\\\\qkfka\\\\Desktop\\\\raw_data\\\\'\n",
    "\n",
    "df1 = pklopen(naver_news2,1)\n",
    "df2 = pklopen(daum_blog,1)\n",
    "df3 = pklopen(daum_cafe,1)\n",
    "df4 = pklopen(fb_2018,1)\n",
    "df5 = pklopen(fb_2019,1)\n",
    "df6 = pklopen(fb_2020,1)\n",
    "df7 = pklopen(naver_blog,1)\n",
    "df8 = pklopen(naver_cafe,1)\n",
    "df9 = pklopen(naver_news,1)\n",
    "df10 = pklopen(twitter,1)\n"
   ]
  },
  {
   "cell_type": "markdown",
   "metadata": {},
   "source": [
    "# 파일 합치기 "
   ]
  },
  {
   "cell_type": "code",
   "execution_count": null,
   "metadata": {},
   "outputs": [],
   "source": [
    "data1 = pd.concat([df1,df2,df3,df4,df5,df6,df7,df8,df9,df10])"
   ]
  },
  {
   "cell_type": "markdown",
   "metadata": {},
   "source": [
    "# 인덱스 초기화"
   ]
  },
  {
   "cell_type": "code",
   "execution_count": null,
   "metadata": {},
   "outputs": [],
   "source": [
    "data1 = data1.reset_index(drop = True)\n",
    "data1"
   ]
  },
  {
   "cell_type": "markdown",
   "metadata": {},
   "source": [
    "# 파일 저장"
   ]
  },
  {
   "cell_type": "code",
   "execution_count": null,
   "metadata": {},
   "outputs": [],
   "source": [
    "f = open(file_path + 'data_1.pkl', \"wb\")\n",
    "pickle.dump(data1,f)\n",
    "f.close()"
   ]
  }
 ],
 "metadata": {
  "kernelspec": {
   "display_name": "Python 3 (ipykernel)",
   "language": "python",
   "name": "python3"
  },
  "language_info": {
   "codemirror_mode": {
    "name": "ipython",
    "version": 3
   },
   "file_extension": ".py",
   "mimetype": "text/x-python",
   "name": "python",
   "nbconvert_exporter": "python",
   "pygments_lexer": "ipython3",
   "version": "3.9.12"
  }
 },
 "nbformat": 4,
 "nbformat_minor": 4
}
