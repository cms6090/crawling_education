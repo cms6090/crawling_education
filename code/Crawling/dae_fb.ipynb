{
 "cells": [
  {
   "cell_type": "code",
   "execution_count": 1,
   "metadata": {},
   "outputs": [],
   "source": [
    "from selenium import webdriver\n",
    "import requests\n",
    "from bs4 import BeautifulSoup as BS\n",
    "import pandas as pd\n",
    "import time\n",
    "import re\n",
    "import pickle\n",
    "from selenium.webdriver.common.keys import Keys\n",
    "from bs4 import BeautifulSoup\n",
    "from tqdm import tqdm "
   ]
  },
  {
   "cell_type": "code",
   "execution_count": 2,
   "metadata": {},
   "outputs": [],
   "source": [
    "file_path = 'C:\\\\Users\\\\qkfka\\\\Desktop\\\\dd\\\\new_dae\\\\' # 파일 경로 바꿀것\n",
    "path = file_path + 'chromedriver.exe' #크롬드라이버"
   ]
  },
  {
   "cell_type": "code",
   "execution_count": 3,
   "metadata": {},
   "outputs": [],
   "source": [
    "def gett(www):\n",
    "    driver.get('{}'.format(www))"
   ]
  },
  {
   "cell_type": "code",
   "execution_count": 4,
   "metadata": {},
   "outputs": [],
   "source": [
    "import datetime\n",
    "    \n",
    "def doScrollDown(whileSeconds):\n",
    "    start = datetime.datetime.now()\n",
    "    end = start + datetime.timedelta(seconds=whileSeconds)\n",
    "    while True:\n",
    "        driver.execute_script('window.scrollTo(0, document.body.scrollHeight);')\n",
    "        time.sleep(1)\n",
    "        if datetime.datetime.now() > end:\n",
    "            break\n"
   ]
  },
  {
   "cell_type": "code",
   "execution_count": 5,
   "metadata": {},
   "outputs": [],
   "source": [
    "url_list = []\n",
    "\n",
    "def urll():\n",
    "    url_list.clear()\n",
    "    doScrollDown(20)\n",
    "    html = driver.page_source\n",
    "    soup = BS(html, 'html.parser')\n",
    "    time.sleep(3)\n",
    "    b = soup.select('div.dati1w0a > a.oajrlxb2.qu0x051f.g5ia77u1.esr5mh6w')\n",
    "    for i in range(len(b)):\n",
    "        url_list.append(b[i]['href'])\n",
    "    url_list"
   ]
  },
  {
   "cell_type": "code",
   "execution_count": 6,
   "metadata": {},
   "outputs": [],
   "source": [
    "doc_list = []\n",
    "def tab(url_list):\n",
    "    doc_list.clear()\n",
    "    for i in tqdm(range(len(url_list))):  #(0,len(url_list)):\n",
    "            url_path = url_list[i]\n",
    "            driver.switch_to_window(driver.window_handles[0]) # 탭 0번 전환  #켜진 순서\n",
    "            driver.execute_script(\"window.open('{}')\".format(url_path))  #문서 순서대로 탭 켜짐\n",
    "            driver.switch_to_window(driver.window_handles[1]) # 탭 1번 전환  #켜진 탭으로..\n",
    "            time.sleep(10)\n",
    "\n",
    "            html = driver.page_source #개발자도구\n",
    "            soup = BS(html, 'html.parser') #...\n",
    "            b= soup.select('span.d2edcug0 ')\n",
    "            b = re.sub(\"[^ㄱ-ㅎㅏ-ㅣ가-힣 ]\", \"\", str(b))\n",
    "            doc_list.append(b)\n",
    "\n",
    "            driver.close() #켜진 탭 하나(긁어온 탭)만 종료   #driver.quit() : 켜진 크롬 다 종료\n",
    "#             if i % 10 == 0 :\n",
    "#                 print(i)\n",
    "            time.sleep(3)\n",
    "    return doc_list"
   ]
  },
  {
   "cell_type": "code",
   "execution_count": 7,
   "metadata": {},
   "outputs": [],
   "source": [
    "def save_pkl(qurey_txt): #파일 저장\n",
    "    raw_data = pd.DataFrame() #크롤링한 데이터를 판다스 데이터프레임형식으로 저장\n",
    "    raw_data['title'] = 'fb' #제목\n",
    "    raw_data['doc'] = doc_list #내용\n",
    "    raw_data['url'] = url_list #url\n",
    "    raw_data['ch'] = 'fb' \n",
    "    raw_data['ch2'] = 'fb' \n",
    "    print(raw_data)\n",
    "    \n",
    "    f = open(file_path + \"{}.pkl\".format(qurey_txt), \"wb\")\n",
    "    pickle.dump(raw_data, f)\n",
    "    f.close()\n",
    "    return raw_data"
   ]
  },
  {
   "cell_type": "code",
   "execution_count": 8,
   "metadata": {},
   "outputs": [],
   "source": [
    "driver = webdriver.Chrome(path)"
   ]
  },
  {
   "cell_type": "code",
   "execution_count": 1,
   "metadata": {
    "scrolled": true
   },
   "outputs": [],
   "source": [
    "gett('https://www.facebook.com/search/posts?q=대전%20지역경제&filters=eyJycF9jcmVhdGlvbl90aW1lOjAiOiJ7XCJuYW1lXCI6XCJjcmVhdGlvbl90aW1lXCIsXCJhcmdzXCI6XCJ7XFxcInN0YXJ0X3llYXJcXFwiOlxcXCIyMDE4XFxcIixcXFwic3RhcnRfbW9udGhcXFwiOlxcXCIyMDE4LTFcXFwiLFxcXCJlbmRfeWVhclxcXCI6XFxcIjIwMThcXFwiLFxcXCJlbmRfbW9udGhcXFwiOlxcXCIyMDE4LTEyXFxcIixcXFwic3RhcnRfZGF5XFxcIjpcXFwiMjAxOC0xLTFcXFwiLFxcXCJlbmRfZGF5XFxcIjpcXFwiMjAxOC0xMi0zMVxcXCJ9XCJ9In0%3D')\n",
    "time.sleep(5)\n",
    "urll()\n",
    "len(url_list)\n",
    "tab(url_list)\n",
    "save_pkl('fb_2018_1')\n",
    "\n",
    "time.sleep(2)\n",
    "\n",
    "driver.switch_to_window(driver.window_handles[0]) # 탭 0번 전환  #켜진 순서\n",
    "gett('https://www.facebook.com/search/posts?q=대전%20지역경제&filters=eyJycF9jcmVhdGlvbl90aW1lOjAiOiJ7XCJuYW1lXCI6XCJjcmVhdGlvbl90aW1lXCIsXCJhcmdzXCI6XCJ7XFxcInN0YXJ0X3llYXJcXFwiOlxcXCIyMDE5XFxcIixcXFwic3RhcnRfbW9udGhcXFwiOlxcXCIyMDE5LTFcXFwiLFxcXCJlbmRfeWVhclxcXCI6XFxcIjIwMTlcXFwiLFxcXCJlbmRfbW9udGhcXFwiOlxcXCIyMDE5LTEyXFxcIixcXFwic3RhcnRfZGF5XFxcIjpcXFwiMjAxOS0xLTFcXFwiLFxcXCJlbmRfZGF5XFxcIjpcXFwiMjAxOS0xMi0zMVxcXCJ9XCJ9In0%3D')\n",
    "time.sleep(5)\n",
    "urll()\n",
    "len(url_list)\n",
    "tab(url_list)\n",
    "save_pkl('fb_2019_1')\n",
    "\n",
    "time.sleep(2)\n",
    "driver.switch_to_window(driver.window_handles[0]) # 탭 0번 전환  #켜진 순서\n",
    "gett('https://www.facebook.com/search/posts?q=대전%20지역경제&filters=eyJycF9jcmVhdGlvbl90aW1lOjAiOiJ7XCJuYW1lXCI6XCJjcmVhdGlvbl90aW1lXCIsXCJhcmdzXCI6XCJ7XFxcInN0YXJ0X3llYXJcXFwiOlxcXCIyMDIwXFxcIixcXFwic3RhcnRfbW9udGhcXFwiOlxcXCIyMDIwLTFcXFwiLFxcXCJlbmRfeWVhclxcXCI6XFxcIjIwMjBcXFwiLFxcXCJlbmRfbW9udGhcXFwiOlxcXCIyMDIwLTEyXFxcIixcXFwic3RhcnRfZGF5XFxcIjpcXFwiMjAyMC0xLTFcXFwiLFxcXCJlbmRfZGF5XFxcIjpcXFwiMjAyMC0xMi0zMVxcXCJ9XCJ9In0%3D')\n",
    "time.sleep(5)\n",
    "urll()\n",
    "len(url_list)\n",
    "tab(url_list)\n",
    "save_pkl('fb_2020_1')\n"
   ]
  }
 ],
 "metadata": {
  "kernelspec": {
   "display_name": "Python 3 (ipykernel)",
   "language": "python",
   "name": "python3"
  },
  "language_info": {
   "codemirror_mode": {
    "name": "ipython",
    "version": 3
   },
   "file_extension": ".py",
   "mimetype": "text/x-python",
   "name": "python",
   "nbconvert_exporter": "python",
   "pygments_lexer": "ipython3",
   "version": "3.9.12"
  }
 },
 "nbformat": 4,
 "nbformat_minor": 4
}
